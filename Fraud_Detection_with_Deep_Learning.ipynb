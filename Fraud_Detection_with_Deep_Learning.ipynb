{
 "cells": [
  {
   "cell_type": "markdown",
   "metadata": {},
   "source": [
    "## Mobile Payments Fraud Detection Using Arificial Neural Networks\n",
    "##### Deep Learning Project by [Yoseph Zuskin](https://www.linkedin.com/in/yoseph-zuskin/), [Krithika Shankar](https://www.linkedin.com/in/krithikashankar/), [Khalid Askar](https://www.linkedin.com/in/khalidaskar/), [Vicky (Xiaoqi) Ma](https://www.linkedin.com/in/vickyma20/), and [Tokey (Mingzhong) Li](https://www.linkedin.com/in/tokeyli/)."
   ]
  },
  {
   "cell_type": "code",
   "execution_count": 1,
   "metadata": {},
   "outputs": [
    {
     "name": "stdout",
     "output_type": "stream",
     "text": [
      "2.0.0\n"
     ]
    }
   ],
   "source": [
    "import tensorflow as tf\n",
    "from tensorflow import keras\n",
    "from tensorflow.keras import Sequential, regularizers\n",
    "from tensorflow.keras.layers import Dense, Dropout, InputLayer\n",
    "from tensorflow.keras import regularizers\n",
    "from tensorflow.keras.callbacks import ModelCheckpoint\n",
    "from tensorflow.keras.models import clone_model\n",
    "print(tf.__version__)"
   ]
  },
  {
   "cell_type": "code",
   "execution_count": 2,
   "metadata": {},
   "outputs": [
    {
     "name": "stderr",
     "output_type": "stream",
     "text": [
      "Using TensorFlow backend.\n"
     ]
    }
   ],
   "source": [
    "import pandas as pd\n",
    "import numpy as np\n",
    "from matplotlib import style\n",
    "style.use('seaborn') # use 'dark_background' for dark theme\n",
    "import matplotlib.pyplot as plt\n",
    "%matplotlib inline\n",
    "from sklearn.model_selection import train_test_split\n",
    "from sklearn.preprocessing import StandardScaler, MinMaxScaler\n",
    "from imblearn.over_sampling import SMOTE\n",
    "from sklearn.metrics import confusion_matrix, precision_recall_curve\n",
    "from sklearn.metrics import recall_score, classification_report, auc, roc_curve\n",
    "from sklearn.metrics import precision_recall_fscore_support, f1_score"
   ]
  },
  {
   "cell_type": "code",
   "execution_count": 3,
   "metadata": {},
   "outputs": [],
   "source": [
    "def plot_learningCurve(history, epoch, metric='binary_accuracy'):\n",
    "    metric_title = metric.replace('_',' ').title()\n",
    "    # Plot training & validation accuracy values\n",
    "    epoch_range = range(1, epoch+1)\n",
    "    plt.plot(epoch_range, history.history[metric])\n",
    "    plt.plot(epoch_range, history.history['val_'+metric])\n",
    "    plt.title('Model '+metric_title)\n",
    "    plt.ylabel(metric_title)\n",
    "    plt.xlabel('Epoch')\n",
    "    plt.legend(['Train', 'Val'], loc='upper left')\n",
    "    plt.show()\n",
    "    # Plot training & validation loss values\n",
    "    plt.plot(epoch_range, history.history['loss'])\n",
    "    plt.plot(epoch_range, history.history['val_loss'])\n",
    "    plt.title('Model Loss')\n",
    "    plt.ylabel('Loss')\n",
    "    plt.xlabel('Epoch')\n",
    "    plt.legend(['Train', 'Val'], loc='upper left')\n",
    "    plt.show()"
   ]
  },
  {
   "cell_type": "code",
   "execution_count": 4,
   "metadata": {},
   "outputs": [],
   "source": [
    "def print_confusion_matrix(testset,predictions):\n",
    "    conmat=pd.DataFrame(confusion_matrix(testset, predictions, labels=[1,0]),\n",
    "                        index=['Actual Fraud','Actual Non-Fraud'],\n",
    "                        columns=['Pred Fraud','Pred Non-Fraud'])\n",
    "    TP=conmat.iloc[0,0]/(conmat.iloc[0,0]+conmat.iloc[0,1])\n",
    "    FN=conmat.iloc[0,1]/(conmat.iloc[0,0]+conmat.iloc[0,1])\n",
    "    TN=conmat.iloc[1,1]/(conmat.iloc[1,0]+conmat.iloc[1,1])\n",
    "    FP=conmat.iloc[1,0]/(conmat.iloc[1,0]+conmat.iloc[1,1])\n",
    "    print('Percent of true positives: {:.2%}'.format(TP))\n",
    "    print('Percent of false negatives: {:.2%}'.format(FN))\n",
    "    print('Percent of true negatives: {:.2%}'.format(TN))\n",
    "    print('Percent of false positives: {:.2%}'.format(FP))\n",
    "    return conmat"
   ]
  },
  {
   "cell_type": "code",
   "execution_count": 5,
   "metadata": {},
   "outputs": [],
   "source": [
    "# below are hyperparameters used for the experiments\n",
    "batch_bin=32\n",
    "num_epochs=5\n",
    "train_pct=0.8\n",
    "validate_pct=0.2\n",
    "learning_rate = 1e-3\n",
    "loss_function='binary_crossentropy'\n",
    "optimization_function='RMSProp'\n",
    "metric='binary_accuracy'"
   ]
  },
  {
   "cell_type": "markdown",
   "metadata": {},
   "source": [
    "### Load and Explore the Simulated Payments Data ([download by clicking here](https://www.kaggle.com/ntnu-testimon/paysim1/download/WFkgBkx3T4g8fI1piSWE%2Fversions%2FaqkdOl5xmdvn6maMN5bg%2Ffiles%2FPS_20174392719_1491204439457_log.csv?datasetVersionNumber=2))"
   ]
  },
  {
   "cell_type": "code",
   "execution_count": 6,
   "metadata": {},
   "outputs": [
    {
     "data": {
      "text/html": [
       "<div>\n",
       "<style scoped>\n",
       "    .dataframe tbody tr th:only-of-type {\n",
       "        vertical-align: middle;\n",
       "    }\n",
       "\n",
       "    .dataframe tbody tr th {\n",
       "        vertical-align: top;\n",
       "    }\n",
       "\n",
       "    .dataframe thead th {\n",
       "        text-align: right;\n",
       "    }\n",
       "</style>\n",
       "<table border=\"1\" class=\"dataframe\">\n",
       "  <thead>\n",
       "    <tr style=\"text-align: right;\">\n",
       "      <th></th>\n",
       "      <th>step</th>\n",
       "      <th>type</th>\n",
       "      <th>amount</th>\n",
       "      <th>nameOrig</th>\n",
       "      <th>oldbalanceOrg</th>\n",
       "      <th>newbalanceOrig</th>\n",
       "      <th>nameDest</th>\n",
       "      <th>oldbalanceDest</th>\n",
       "      <th>newbalanceDest</th>\n",
       "      <th>isFraud</th>\n",
       "      <th>isFlaggedFraud</th>\n",
       "    </tr>\n",
       "  </thead>\n",
       "  <tbody>\n",
       "    <tr>\n",
       "      <th>0</th>\n",
       "      <td>1</td>\n",
       "      <td>PAYMENT</td>\n",
       "      <td>9839.64</td>\n",
       "      <td>C1231006815</td>\n",
       "      <td>170136.0</td>\n",
       "      <td>160296.36</td>\n",
       "      <td>M1979787155</td>\n",
       "      <td>0.0</td>\n",
       "      <td>0.0</td>\n",
       "      <td>0</td>\n",
       "      <td>0</td>\n",
       "    </tr>\n",
       "    <tr>\n",
       "      <th>1</th>\n",
       "      <td>1</td>\n",
       "      <td>PAYMENT</td>\n",
       "      <td>1864.28</td>\n",
       "      <td>C1666544295</td>\n",
       "      <td>21249.0</td>\n",
       "      <td>19384.72</td>\n",
       "      <td>M2044282225</td>\n",
       "      <td>0.0</td>\n",
       "      <td>0.0</td>\n",
       "      <td>0</td>\n",
       "      <td>0</td>\n",
       "    </tr>\n",
       "    <tr>\n",
       "      <th>2</th>\n",
       "      <td>1</td>\n",
       "      <td>TRANSFER</td>\n",
       "      <td>181.00</td>\n",
       "      <td>C1305486145</td>\n",
       "      <td>181.0</td>\n",
       "      <td>0.00</td>\n",
       "      <td>C553264065</td>\n",
       "      <td>0.0</td>\n",
       "      <td>0.0</td>\n",
       "      <td>1</td>\n",
       "      <td>0</td>\n",
       "    </tr>\n",
       "    <tr>\n",
       "      <th>3</th>\n",
       "      <td>1</td>\n",
       "      <td>CASH_OUT</td>\n",
       "      <td>181.00</td>\n",
       "      <td>C840083671</td>\n",
       "      <td>181.0</td>\n",
       "      <td>0.00</td>\n",
       "      <td>C38997010</td>\n",
       "      <td>21182.0</td>\n",
       "      <td>0.0</td>\n",
       "      <td>1</td>\n",
       "      <td>0</td>\n",
       "    </tr>\n",
       "    <tr>\n",
       "      <th>4</th>\n",
       "      <td>1</td>\n",
       "      <td>PAYMENT</td>\n",
       "      <td>11668.14</td>\n",
       "      <td>C2048537720</td>\n",
       "      <td>41554.0</td>\n",
       "      <td>29885.86</td>\n",
       "      <td>M1230701703</td>\n",
       "      <td>0.0</td>\n",
       "      <td>0.0</td>\n",
       "      <td>0</td>\n",
       "      <td>0</td>\n",
       "    </tr>\n",
       "  </tbody>\n",
       "</table>\n",
       "</div>"
      ],
      "text/plain": [
       "   step      type    amount     nameOrig  oldbalanceOrg  newbalanceOrig  \\\n",
       "0     1   PAYMENT   9839.64  C1231006815       170136.0       160296.36   \n",
       "1     1   PAYMENT   1864.28  C1666544295        21249.0        19384.72   \n",
       "2     1  TRANSFER    181.00  C1305486145          181.0            0.00   \n",
       "3     1  CASH_OUT    181.00   C840083671          181.0            0.00   \n",
       "4     1   PAYMENT  11668.14  C2048537720        41554.0        29885.86   \n",
       "\n",
       "      nameDest  oldbalanceDest  newbalanceDest  isFraud  isFlaggedFraud  \n",
       "0  M1979787155             0.0             0.0        0               0  \n",
       "1  M2044282225             0.0             0.0        0               0  \n",
       "2   C553264065             0.0             0.0        1               0  \n",
       "3    C38997010         21182.0             0.0        1               0  \n",
       "4  M1230701703             0.0             0.0        0               0  "
      ]
     },
     "execution_count": 6,
     "metadata": {},
     "output_type": "execute_result"
    }
   ],
   "source": [
    "data = pd.read_csv('PS_20174392719_1491204439457_log.csv')\n",
    "data.head()"
   ]
  },
  {
   "cell_type": "code",
   "execution_count": 7,
   "metadata": {},
   "outputs": [
    {
     "data": {
      "text/plain": [
       "Index(['step', 'type', 'amount', 'nameOrig', 'oldbalanceOrg', 'newbalanceOrig',\n",
       "       'nameDest', 'oldbalanceDest', 'newbalanceDest', 'isFraud',\n",
       "       'isFlaggedFraud'],\n",
       "      dtype='object')"
      ]
     },
     "execution_count": 7,
     "metadata": {},
     "output_type": "execute_result"
    }
   ],
   "source": [
    "data.columns"
   ]
  },
  {
   "cell_type": "code",
   "execution_count": 8,
   "metadata": {},
   "outputs": [
    {
     "data": {
      "text/plain": [
       "(6362620, 11)"
      ]
     },
     "execution_count": 8,
     "metadata": {},
     "output_type": "execute_result"
    }
   ],
   "source": [
    "data.shape"
   ]
  },
  {
   "cell_type": "code",
   "execution_count": 9,
   "metadata": {},
   "outputs": [
    {
     "data": {
      "text/plain": [
       "step              0\n",
       "type              0\n",
       "amount            0\n",
       "nameOrig          0\n",
       "oldbalanceOrg     0\n",
       "newbalanceOrig    0\n",
       "nameDest          0\n",
       "oldbalanceDest    0\n",
       "newbalanceDest    0\n",
       "isFraud           0\n",
       "isFlaggedFraud    0\n",
       "dtype: int64"
      ]
     },
     "execution_count": 9,
     "metadata": {},
     "output_type": "execute_result"
    }
   ],
   "source": [
    "data.isnull().sum()"
   ]
  },
  {
   "cell_type": "code",
   "execution_count": 10,
   "metadata": {
    "scrolled": true
   },
   "outputs": [
    {
     "name": "stdout",
     "output_type": "stream",
     "text": [
      "<class 'pandas.core.frame.DataFrame'>\n",
      "RangeIndex: 6362620 entries, 0 to 6362619\n",
      "Data columns (total 11 columns):\n",
      "step              int64\n",
      "type              object\n",
      "amount            float64\n",
      "nameOrig          object\n",
      "oldbalanceOrg     float64\n",
      "newbalanceOrig    float64\n",
      "nameDest          object\n",
      "oldbalanceDest    float64\n",
      "newbalanceDest    float64\n",
      "isFraud           int64\n",
      "isFlaggedFraud    int64\n",
      "dtypes: float64(5), int64(3), object(3)\n",
      "memory usage: 534.0+ MB\n"
     ]
    }
   ],
   "source": [
    "data.info()"
   ]
  },
  {
   "cell_type": "code",
   "execution_count": 11,
   "metadata": {},
   "outputs": [
    {
     "data": {
      "text/plain": [
       "step                  743\n",
       "type                    5\n",
       "nameOrig          6353307\n",
       "nameDest          2722362\n",
       "isFraud                 2\n",
       "isFlaggedFraud          2\n",
       "dtype: int64"
      ]
     },
     "execution_count": 11,
     "metadata": {},
     "output_type": "execute_result"
    }
   ],
   "source": [
    "data[['step','type','nameOrig','nameDest','isFraud','isFlaggedFraud']].nunique()"
   ]
  },
  {
   "cell_type": "code",
   "execution_count": 12,
   "metadata": {},
   "outputs": [
    {
     "data": {
      "text/html": [
       "<div>\n",
       "<style scoped>\n",
       "    .dataframe tbody tr th:only-of-type {\n",
       "        vertical-align: middle;\n",
       "    }\n",
       "\n",
       "    .dataframe tbody tr th {\n",
       "        vertical-align: top;\n",
       "    }\n",
       "\n",
       "    .dataframe thead th {\n",
       "        text-align: right;\n",
       "    }\n",
       "</style>\n",
       "<table border=\"1\" class=\"dataframe\">\n",
       "  <thead>\n",
       "    <tr style=\"text-align: right;\">\n",
       "      <th></th>\n",
       "      <th></th>\n",
       "      <th></th>\n",
       "      <th>count</th>\n",
       "    </tr>\n",
       "    <tr>\n",
       "      <th>type</th>\n",
       "      <th>isFraud</th>\n",
       "      <th>isFlaggedFraud</th>\n",
       "      <th></th>\n",
       "    </tr>\n",
       "  </thead>\n",
       "  <tbody>\n",
       "    <tr>\n",
       "      <th>CASH_IN</th>\n",
       "      <th>0</th>\n",
       "      <th>0</th>\n",
       "      <td>1399284</td>\n",
       "    </tr>\n",
       "    <tr>\n",
       "      <th rowspan=\"2\" valign=\"top\">CASH_OUT</th>\n",
       "      <th>0</th>\n",
       "      <th>0</th>\n",
       "      <td>2233384</td>\n",
       "    </tr>\n",
       "    <tr>\n",
       "      <th>1</th>\n",
       "      <th>0</th>\n",
       "      <td>4116</td>\n",
       "    </tr>\n",
       "    <tr>\n",
       "      <th>DEBIT</th>\n",
       "      <th>0</th>\n",
       "      <th>0</th>\n",
       "      <td>41432</td>\n",
       "    </tr>\n",
       "    <tr>\n",
       "      <th>PAYMENT</th>\n",
       "      <th>0</th>\n",
       "      <th>0</th>\n",
       "      <td>2151495</td>\n",
       "    </tr>\n",
       "    <tr>\n",
       "      <th rowspan=\"3\" valign=\"top\">TRANSFER</th>\n",
       "      <th>0</th>\n",
       "      <th>0</th>\n",
       "      <td>528812</td>\n",
       "    </tr>\n",
       "    <tr>\n",
       "      <th rowspan=\"2\" valign=\"top\">1</th>\n",
       "      <th>0</th>\n",
       "      <td>4081</td>\n",
       "    </tr>\n",
       "    <tr>\n",
       "      <th>1</th>\n",
       "      <td>16</td>\n",
       "    </tr>\n",
       "  </tbody>\n",
       "</table>\n",
       "</div>"
      ],
      "text/plain": [
       "                                   count\n",
       "type     isFraud isFlaggedFraud         \n",
       "CASH_IN  0       0               1399284\n",
       "CASH_OUT 0       0               2233384\n",
       "         1       0                  4116\n",
       "DEBIT    0       0                 41432\n",
       "PAYMENT  0       0               2151495\n",
       "TRANSFER 0       0                528812\n",
       "         1       0                  4081\n",
       "                 1                    16"
      ]
     },
     "execution_count": 12,
     "metadata": {},
     "output_type": "execute_result"
    }
   ],
   "source": [
    "data.groupby(['type','isFraud','isFlaggedFraud'])[['isFraud']].count().rename(columns={'isFraud':'count'})"
   ]
  },
  {
   "cell_type": "markdown",
   "metadata": {},
   "source": [
    "### Data Preprocessing"
   ]
  },
  {
   "cell_type": "code",
   "execution_count": 7,
   "metadata": {},
   "outputs": [],
   "source": [
    "# one-hot encoding for the categorical 'type' variable\n",
    "dummies = pd.get_dummies(data['type'])\n",
    "data2 = pd.concat([data[['step','amount','oldbalanceOrg','newbalanceOrig','oldbalanceDest','newbalanceDest',\n",
    "                        'isFraud']],dummies],axis=1)\n",
    "del dummies\n",
    "del data"
   ]
  },
  {
   "cell_type": "code",
   "execution_count": 8,
   "metadata": {},
   "outputs": [],
   "source": [
    "# split data 80-20 across training and testing datasets\n",
    "x_train, x_test, y_train, y_test = train_test_split(data2.loc[:,data2.columns!='isFraud'],\n",
    "                                                    data2.loc[:,data2.columns=='isFraud'],\n",
    "                                                    test_size=validate_pct,train_size=train_pct)"
   ]
  },
  {
   "cell_type": "code",
   "execution_count": 9,
   "metadata": {},
   "outputs": [],
   "source": [
    "# rescale datasets using StandardScaler on the training datasets\n",
    "standard = StandardScaler()\n",
    "standard_x_train = standard.fit_transform(x_train)\n",
    "standard_x_test = standard.transform(x_test)"
   ]
  },
  {
   "cell_type": "code",
   "execution_count": 10,
   "metadata": {},
   "outputs": [],
   "source": [
    "# rescale datasets using MinMaxScaler on the training datasets\n",
    "minmax = MinMaxScaler()\n",
    "minmax_x_train = minmax.fit_transform(x_train)\n",
    "minmax_x_test = minmax.transform(x_test)"
   ]
  },
  {
   "cell_type": "code",
   "execution_count": 11,
   "metadata": {},
   "outputs": [],
   "source": [
    "# reset y variable to numpy array\n",
    "y_train, y_test = np.array(y_train), np.array(y_test)"
   ]
  },
  {
   "cell_type": "code",
   "execution_count": 12,
   "metadata": {},
   "outputs": [
    {
     "data": {
      "text/plain": [
       "{0: 1270797, 1: 1727}"
      ]
     },
     "execution_count": 12,
     "metadata": {},
     "output_type": "execute_result"
    }
   ],
   "source": [
    "# count how many non-fraud and fraud transactions are in the test set\n",
    "unique,counts = np.unique(y_test,return_counts=True)\n",
    "dict(zip(unique,counts))"
   ]
  },
  {
   "cell_type": "code",
   "execution_count": 12,
   "metadata": {},
   "outputs": [],
   "source": [
    "# separate the data into non-fraud and fraud dataframes\n",
    "non_fraud = data2[data2['isFraud']==0]\n",
    "fraud = data2[data2['isFraud']==1]"
   ]
  },
  {
   "cell_type": "code",
   "execution_count": 14,
   "metadata": {},
   "outputs": [
    {
     "data": {
      "text/plain": [
       "((6354407, 12), (8213, 12))"
      ]
     },
     "execution_count": 14,
     "metadata": {},
     "output_type": "execute_result"
    }
   ],
   "source": [
    "non_fraud.shape, fraud.shape"
   ]
  },
  {
   "cell_type": "code",
   "execution_count": 13,
   "metadata": {},
   "outputs": [],
   "source": [
    "# create a test-train split for the autoencoder using only non-fraud data\n",
    "train_ae, test_ae = train_test_split(data2, test_size=0.2, random_state=123)\n",
    "train_ae, valid_ae = train_test_split(train_ae, test_size=0.2, random_state=123)"
   ]
  },
  {
   "cell_type": "code",
   "execution_count": 14,
   "metadata": {},
   "outputs": [],
   "source": [
    "df_train_0 = train_ae.loc[data2['isFraud'] == 0]\n",
    "df_train_1 = train_ae.loc[data2['isFraud'] == 1]\n",
    "df_train_0_x = df_train_0.drop(['isFraud'], axis=1)\n",
    "df_train_1_x = df_train_1.drop(['isFraud'], axis=1)\n",
    "\n",
    "df_valid_0 = valid_ae.loc[data2['isFraud'] == 0]\n",
    "df_valid_1 = valid_ae.loc[data2['isFraud'] == 1]\n",
    "df_valid_0_x = df_valid_0.drop(['isFraud'], axis=1)\n",
    "df_valid_1_x = df_valid_1.drop(['isFraud'], axis=1)\n",
    "\n",
    "df_test_0 = test_ae.loc[data2['isFraud'] == 0]\n",
    "df_test_1 = test_ae.loc[data2['isFraud'] == 1]\n",
    "df_test_0_x = df_test_0.drop(['isFraud'], axis=1)\n",
    "df_test_1_x = df_test_1.drop(['isFraud'], axis=1)"
   ]
  },
  {
   "cell_type": "code",
   "execution_count": 15,
   "metadata": {},
   "outputs": [],
   "source": [
    "scaler = StandardScaler().fit(df_train_0_x)\n",
    "df_train_0_x_rescaled = scaler.transform(df_train_0_x)\n",
    "df_valid_0_x_rescaled = scaler.transform(df_valid_0_x)\n",
    "df_valid_x_rescaled = scaler.transform(valid_ae.drop(['isFraud'], axis = 1))\n",
    "\n",
    "df_test_0_x_rescaled = scaler.transform(df_test_0_x)\n",
    "df_test_x_rescaled = scaler.transform(test_ae.drop(['isFraud'], axis = 1))"
   ]
  },
  {
   "cell_type": "code",
   "execution_count": 16,
   "metadata": {},
   "outputs": [
    {
     "name": "stderr",
     "output_type": "stream",
     "text": [
      "C:\\ProgramData\\Anaconda3\\envs\\tensorflow_env\\lib\\site-packages\\sklearn\\utils\\validation.py:760: DataConversionWarning: A column-vector y was passed when a 1d array was expected. Please change the shape of y to (n_samples, ), for example using ravel().\n",
      "  y = column_or_1d(y, warn=True)\n"
     ]
    }
   ],
   "source": [
    "# create a SMOTE balanced version of the standard training dataset\n",
    "standard_smt = SMOTE()\n",
    "standard_x_train_sm, standard_y_train_sm = standard_smt.fit_sample(standard_x_train,y_train)"
   ]
  },
  {
   "cell_type": "code",
   "execution_count": 19,
   "metadata": {},
   "outputs": [
    {
     "data": {
      "text/plain": [
       "array([5083610, 5083610], dtype=int64)"
      ]
     },
     "execution_count": 19,
     "metadata": {},
     "output_type": "execute_result"
    }
   ],
   "source": [
    "np.bincount(standard_y_train_sm)"
   ]
  },
  {
   "cell_type": "code",
   "execution_count": 17,
   "metadata": {},
   "outputs": [
    {
     "name": "stderr",
     "output_type": "stream",
     "text": [
      "C:\\ProgramData\\Anaconda3\\envs\\tensorflow_env\\lib\\site-packages\\sklearn\\utils\\validation.py:760: DataConversionWarning: A column-vector y was passed when a 1d array was expected. Please change the shape of y to (n_samples, ), for example using ravel().\n",
      "  y = column_or_1d(y, warn=True)\n"
     ]
    }
   ],
   "source": [
    "# create a SMOTE balanced version of the standard training dataset\n",
    "minmax_smt = SMOTE()\n",
    "minmax_x_train_sm, minmax_y_train_sm = minmax_smt.fit_sample(minmax_x_train,y_train)"
   ]
  },
  {
   "cell_type": "code",
   "execution_count": 21,
   "metadata": {},
   "outputs": [
    {
     "data": {
      "text/plain": [
       "array([5083610, 5083610], dtype=int64)"
      ]
     },
     "execution_count": 21,
     "metadata": {},
     "output_type": "execute_result"
    }
   ],
   "source": [
    "np.bincount(standard_y_train_sm)"
   ]
  },
  {
   "cell_type": "code",
   "execution_count": 18,
   "metadata": {},
   "outputs": [
    {
     "data": {
      "text/plain": [
       "(8213, 12)"
      ]
     },
     "execution_count": 18,
     "metadata": {},
     "output_type": "execute_result"
    }
   ],
   "source": [
    "non_fraud = non_fraud.sample(fraud.shape[0])\n",
    "non_fraud.shape"
   ]
  },
  {
   "cell_type": "code",
   "execution_count": 19,
   "metadata": {},
   "outputs": [],
   "source": [
    "rand_balanced_data = fraud.append(non_fraud, ignore_index=True)"
   ]
  },
  {
   "cell_type": "code",
   "execution_count": 20,
   "metadata": {},
   "outputs": [
    {
     "data": {
      "text/plain": [
       "1    8213\n",
       "0    8213\n",
       "Name: isFraud, dtype: int64"
      ]
     },
     "execution_count": 20,
     "metadata": {},
     "output_type": "execute_result"
    }
   ],
   "source": [
    "rand_balanced_data['isFraud'].value_counts()"
   ]
  },
  {
   "cell_type": "code",
   "execution_count": 21,
   "metadata": {},
   "outputs": [],
   "source": [
    "# create a randomly balanced datasets for training and testing the feed forward neural netowrk on\n",
    "rand_x_train,rand_x_test,rand_y_train,rand_y_test=train_test_split(rand_balanced_data.loc[:,non_fraud.columns!='isFraud'],\n",
    "                                                                   rand_balanced_data.loc[:,non_fraud.columns=='isFraud'],\n",
    "                                                                   train_size=train_pct,test_size=validate_pct)\n",
    "rand_y_train=np.array(rand_y_train)\n",
    "rand_y_test=np.array(rand_y_test)"
   ]
  },
  {
   "cell_type": "code",
   "execution_count": 22,
   "metadata": {},
   "outputs": [],
   "source": [
    "# rescale datasets using StandardScaler on the training datasets\n",
    "rand_standard = StandardScaler()\n",
    "rand_standard_x_train = standard.fit_transform(rand_x_train)\n",
    "rand_standard_x_test = standard.transform(rand_x_test)"
   ]
  },
  {
   "cell_type": "code",
   "execution_count": 23,
   "metadata": {},
   "outputs": [],
   "source": [
    "# rescale datasets using MinMaxScaler on the training datasets\n",
    "rand_minmax = MinMaxScaler()\n",
    "rand_minmax_x_train = minmax.fit_transform(rand_x_train)\n",
    "rand_minmax_x_test = minmax.transform(rand_x_test)"
   ]
  },
  {
   "cell_type": "markdown",
   "metadata": {},
   "source": [
    "### Feedforward Neural Network with Standardized Imbalanced Big Dataset"
   ]
  },
  {
   "cell_type": "code",
   "execution_count": 34,
   "metadata": {},
   "outputs": [],
   "source": [
    "standardized_imbalanced_ann = Sequential()\n",
    "\n",
    "standardized_imbalanced_ann.add(InputLayer(input_shape=(11,)))\n",
    "standardized_imbalanced_ann.add(Dense(64,activation='relu'))\n",
    "standardized_imbalanced_ann.add(Dropout(0.2))\n",
    "standardized_imbalanced_ann.add(Dense(32,activation='relu'))\n",
    "standardized_imbalanced_ann.add(Dropout(0.1))\n",
    "standardized_imbalanced_ann.add(Dense(1,activation='sigmoid'))"
   ]
  },
  {
   "cell_type": "code",
   "execution_count": 35,
   "metadata": {},
   "outputs": [
    {
     "name": "stdout",
     "output_type": "stream",
     "text": [
      "Model: \"sequential\"\n",
      "_________________________________________________________________\n",
      "Layer (type)                 Output Shape              Param #   \n",
      "=================================================================\n",
      "dense (Dense)                (None, 64)                768       \n",
      "_________________________________________________________________\n",
      "dropout (Dropout)            (None, 64)                0         \n",
      "_________________________________________________________________\n",
      "dense_1 (Dense)              (None, 32)                2080      \n",
      "_________________________________________________________________\n",
      "dropout_1 (Dropout)          (None, 32)                0         \n",
      "_________________________________________________________________\n",
      "dense_2 (Dense)              (None, 1)                 33        \n",
      "=================================================================\n",
      "Total params: 2,881\n",
      "Trainable params: 2,881\n",
      "Non-trainable params: 0\n",
      "_________________________________________________________________\n"
     ]
    }
   ],
   "source": [
    "standardized_imbalanced_ann.summary()"
   ]
  },
  {
   "cell_type": "code",
   "execution_count": 36,
   "metadata": {},
   "outputs": [],
   "source": [
    "standardized_imbalanced_ann.compile(loss=loss_function,optimizer=optimization_function,metrics=[metric])"
   ]
  },
  {
   "cell_type": "code",
   "execution_count": 37,
   "metadata": {},
   "outputs": [],
   "source": [
    "filepath=\"models/standardized-imbalanced-ann-weights-improvement-{epoch:02d}-{val_\"+metric+\":.2f}.hdf5\"\n",
    "checkpoint = ModelCheckpoint(filepath, monitor='val_'+metric, verbose=1, save_best_only=True, mode='max')\n",
    "callbacks_list_imbalanced_ann = [checkpoint]"
   ]
  },
  {
   "cell_type": "code",
   "execution_count": 38,
   "metadata": {},
   "outputs": [
    {
     "name": "stdout",
     "output_type": "stream",
     "text": [
      "Train on 4072076 samples, validate on 1018020 samples\n",
      "Epoch 1/5\n",
      "4071840/4072076 [============================>.] - ETA: 0s - loss: 0.0142 - binary_accuracy: 0.9977\n",
      "Epoch 00001: val_binary_accuracy improved from -inf to 0.99901, saving model to models/standardized-imbalanced-ann-weights-improvement-01-1.00.hdf5\n",
      "4072076/4072076 [==============================] - 420s 103us/sample - loss: 0.0142 - binary_accuracy: 0.9977 - val_loss: 0.0084 - val_binary_accuracy: 0.9990\n",
      "Epoch 2/5\n",
      "4071616/4072076 [============================>.] - ETA: 0s - loss: 0.0205 - binary_accuracy: 0.9968\n",
      "Epoch 00002: val_binary_accuracy improved from 0.99901 to 0.99906, saving model to models/standardized-imbalanced-ann-weights-improvement-02-1.00.hdf5\n",
      "4072076/4072076 [==============================] - 369s 91us/sample - loss: 0.0205 - binary_accuracy: 0.9968 - val_loss: 0.0112 - val_binary_accuracy: 0.9991\n",
      "Epoch 3/5\n",
      "4071968/4072076 [============================>.] - ETA: 0s - loss: 0.0220 - binary_accuracy: 0.9973\n",
      "Epoch 00003: val_binary_accuracy improved from 0.99906 to 0.99906, saving model to models/standardized-imbalanced-ann-weights-improvement-03-1.00.hdf5\n",
      "4072076/4072076 [==============================] - 436s 107us/sample - loss: 0.0220 - binary_accuracy: 0.9973 - val_loss: 0.0148 - val_binary_accuracy: 0.9991\n",
      "Epoch 4/5\n",
      "4071840/4072076 [============================>.] - ETA: 0s - loss: 0.0225 - binary_accuracy: 0.9975\n",
      "Epoch 00004: val_binary_accuracy improved from 0.99906 to 0.99908, saving model to models/standardized-imbalanced-ann-weights-improvement-04-1.00.hdf5\n",
      "4072076/4072076 [==============================] - 447s 110us/sample - loss: 0.0225 - binary_accuracy: 0.9975 - val_loss: 0.0149 - val_binary_accuracy: 0.9991\n",
      "Epoch 5/5\n",
      "4071648/4072076 [============================>.] - ETA: 0s - loss: 0.0250 - binary_accuracy: 0.9974\n",
      "Epoch 00005: val_binary_accuracy improved from 0.99908 to 0.99908, saving model to models/standardized-imbalanced-ann-weights-improvement-05-1.00.hdf5\n",
      "4072076/4072076 [==============================] - 443s 109us/sample - loss: 0.0250 - binary_accuracy: 0.9974 - val_loss: 0.0190 - val_binary_accuracy: 0.9991\n"
     ]
    }
   ],
   "source": [
    "standard_imbalaned_ann_fit = standardized_imbalanced_ann.fit(standard_x_train,y_train,\n",
    "                                                             callbacks=callbacks_list_imbalanced_ann,\n",
    "                                                             batch_size=batch_bin,epochs=num_epochs,\n",
    "                                                             validation_split=validate_pct)"
   ]
  },
  {
   "cell_type": "code",
   "execution_count": 39,
   "metadata": {},
   "outputs": [],
   "source": [
    "standardized_imbalanced_y_pred = standardized_imbalanced_ann.predict_classes(standard_x_test)"
   ]
  },
  {
   "cell_type": "code",
   "execution_count": 40,
   "metadata": {},
   "outputs": [
    {
     "name": "stdout",
     "output_type": "stream",
     "text": [
      "Percent of true positives: 32.03%\n",
      "Percent of false negatives: 67.97%\n",
      "Percent of true negatives: 100.00%\n",
      "Percent of false positives: 0.00%\n"
     ]
    },
    {
     "data": {
      "text/html": [
       "<div>\n",
       "<style scoped>\n",
       "    .dataframe tbody tr th:only-of-type {\n",
       "        vertical-align: middle;\n",
       "    }\n",
       "\n",
       "    .dataframe tbody tr th {\n",
       "        vertical-align: top;\n",
       "    }\n",
       "\n",
       "    .dataframe thead th {\n",
       "        text-align: right;\n",
       "    }\n",
       "</style>\n",
       "<table border=\"1\" class=\"dataframe\">\n",
       "  <thead>\n",
       "    <tr style=\"text-align: right;\">\n",
       "      <th></th>\n",
       "      <th>Pred Fraud</th>\n",
       "      <th>Pred Non-Fraud</th>\n",
       "    </tr>\n",
       "  </thead>\n",
       "  <tbody>\n",
       "    <tr>\n",
       "      <th>Actual Fraud</th>\n",
       "      <td>525</td>\n",
       "      <td>1114</td>\n",
       "    </tr>\n",
       "    <tr>\n",
       "      <th>Actual Non-Fraud</th>\n",
       "      <td>1</td>\n",
       "      <td>1270884</td>\n",
       "    </tr>\n",
       "  </tbody>\n",
       "</table>\n",
       "</div>"
      ],
      "text/plain": [
       "                  Pred Fraud  Pred Non-Fraud\n",
       "Actual Fraud             525            1114\n",
       "Actual Non-Fraud           1         1270884"
      ]
     },
     "execution_count": 40,
     "metadata": {},
     "output_type": "execute_result"
    }
   ],
   "source": [
    "print_confusion_matrix(y_test,standardized_imbalanced_y_pred)"
   ]
  },
  {
   "cell_type": "code",
   "execution_count": 41,
   "metadata": {},
   "outputs": [
    {
     "data": {
      "image/png": "[encoded data removed]",
      "text/plain": [
       "<Figure size 432x288 with 1 Axes>"
      ]
     },
     "metadata": {
      "needs_background": "light"
     },
     "output_type": "display_data"
    },
    {
     "data": {
      "image/png": "[encoded data removed]",
      "text/plain": [
       "<Figure size 432x288 with 1 Axes>"
      ]
     },
     "metadata": {
      "needs_background": "light"
     },
     "output_type": "display_data"
    }
   ],
   "source": [
    "plot_learningCurve(standard_imbalaned_ann_fit,num_epochs)"
   ]
  },
  {
   "cell_type": "code",
   "execution_count": 42,
   "metadata": {},
   "outputs": [],
   "source": [
    "# save standardized imbalanced_ann model\n",
    "# serialize model to JSON\n",
    "with open(\"models/standardized_imbalaned_ann_fraud_detector.json\", \"w\") as json_file:\n",
    "    json_file.write(standardized_imbalanced_ann.to_json())\n",
    "# serialize weights to HDF5\n",
    "standardized_imbalanced_ann.save_weights(\"models/standardized_imbalaned_ann_fraud_detector.h5\")\n",
    "del standard_imbalaned_ann_fit\n",
    "del standardized_imbalanced_y_pred"
   ]
  },
  {
   "cell_type": "markdown",
   "metadata": {},
   "source": [
    "### Feedforward Neural Network with Normalized Imbalanced Big Dataset"
   ]
  },
  {
   "cell_type": "code",
   "execution_count": 43,
   "metadata": {},
   "outputs": [],
   "source": [
    "filepath=\"models/imbalanced-minmax-ann-weights-improvement-{epoch:02d}-{val_\"+metric+\":.2f}.hdf5\"\n",
    "checkpoint = ModelCheckpoint(filepath, monitor='val_'+metric, verbose=1, save_best_only=True, mode='max')\n",
    "callbacks_list_imbalanced_ann = [checkpoint]"
   ]
  },
  {
   "cell_type": "code",
   "execution_count": 44,
   "metadata": {},
   "outputs": [
    {
     "name": "stdout",
     "output_type": "stream",
     "text": [
      "Train on 4072076 samples, validate on 1018020 samples\n",
      "Epoch 1/5\n",
      "4072000/4072076 [============================>.] - ETA: 0s - loss: 0.0122 - binary_accuracy: 0.9986- ETA: 1s - loss: 0.0122 - binary_acc - ETA: 0s - loss: 0.0122\n",
      "Epoch 00001: val_binary_accuracy improved from -inf to 0.99872, saving model to models/imbalanced-minmax-ann-weights-improvement-01-1.00.hdf5\n",
      "4072076/4072076 [==============================] - 445s 109us/sample - loss: 0.0122 - binary_accuracy: 0.9986 - val_loss: 0.0127 - val_binary_accuracy: 0.9987\n",
      "Epoch 2/5\n",
      "4071680/4072076 [============================>.] - ETA: 0s - loss: 0.0124 - binary_accuracy: 0.9986\n",
      "Epoch 00002: val_binary_accuracy did not improve from 0.99872\n",
      "4072076/4072076 [==============================] - 464s 114us/sample - loss: 0.0124 - binary_accuracy: 0.9986 - val_loss: 0.0108 - val_binary_accuracy: 0.9987\n",
      "Epoch 3/5\n",
      "4071840/4072076 [============================>.] - ETA: 0s - loss: 0.0128 - binary_accuracy: 0.9985\n",
      "Epoch 00003: val_binary_accuracy did not improve from 0.99872\n",
      "4072076/4072076 [==============================] - 475s 117us/sample - loss: 0.0128 - binary_accuracy: 0.9985 - val_loss: 0.0078 - val_binary_accuracy: 0.9987\n",
      "Epoch 4/5\n",
      "4071904/4072076 [============================>.] - ETA: 0s - loss: 0.0131 - binary_accuracy: 0.9985\n",
      "Epoch 00004: val_binary_accuracy did not improve from 0.99872\n",
      "4072076/4072076 [==============================] - 461s 113us/sample - loss: 0.0131 - binary_accuracy: 0.9985 - val_loss: 0.0154 - val_binary_accuracy: 0.9987\n",
      "Epoch 5/5\n",
      "4071488/4072076 [============================>.] - ETA: 0s - loss: 0.0134 - binary_accuracy: 0.9984\n",
      "Epoch 00005: val_binary_accuracy did not improve from 0.99872\n",
      "4072076/4072076 [==============================] - 468s 115us/sample - loss: 0.0134 - binary_accuracy: 0.9984 - val_loss: 0.0109 - val_binary_accuracy: 0.9987\n"
     ]
    }
   ],
   "source": [
    "minmax_imbalanced_ann = clone_model(standardized_imbalanced_ann)\n",
    "del standardized_imbalanced_ann\n",
    "minmax_imbalanced_ann.compile(loss=loss_function,optimizer=optimization_function,metrics=[metric])\n",
    "minamx_imbalaned_ann_fit = minmax_imbalanced_ann.fit(minmax_x_train,y_train,callbacks=callbacks_list_imbalanced_ann,\n",
    "                                                     batch_size=batch_bin,epochs=num_epochs,validation_split=validate_pct)"
   ]
  },
  {
   "cell_type": "code",
   "execution_count": 45,
   "metadata": {},
   "outputs": [],
   "source": [
    "normalized_imbalanced_y_pred = minmax_imbalanced_ann.predict_classes(minmax_x_test)"
   ]
  },
  {
   "cell_type": "code",
   "execution_count": 46,
   "metadata": {},
   "outputs": [
    {
     "name": "stdout",
     "output_type": "stream",
     "text": [
      "Percent of true positives: 0.00%\n",
      "Percent of false negatives: 100.00%\n",
      "Percent of true negatives: 100.00%\n",
      "Percent of false positives: 0.00%\n"
     ]
    },
    {
     "data": {
      "text/html": [
       "<div>\n",
       "<style scoped>\n",
       "    .dataframe tbody tr th:only-of-type {\n",
       "        vertical-align: middle;\n",
       "    }\n",
       "\n",
       "    .dataframe tbody tr th {\n",
       "        vertical-align: top;\n",
       "    }\n",
       "\n",
       "    .dataframe thead th {\n",
       "        text-align: right;\n",
       "    }\n",
       "</style>\n",
       "<table border=\"1\" class=\"dataframe\">\n",
       "  <thead>\n",
       "    <tr style=\"text-align: right;\">\n",
       "      <th></th>\n",
       "      <th>Pred Fraud</th>\n",
       "      <th>Pred Non-Fraud</th>\n",
       "    </tr>\n",
       "  </thead>\n",
       "  <tbody>\n",
       "    <tr>\n",
       "      <th>Actual Fraud</th>\n",
       "      <td>0</td>\n",
       "      <td>1639</td>\n",
       "    </tr>\n",
       "    <tr>\n",
       "      <th>Actual Non-Fraud</th>\n",
       "      <td>0</td>\n",
       "      <td>1270885</td>\n",
       "    </tr>\n",
       "  </tbody>\n",
       "</table>\n",
       "</div>"
      ],
      "text/plain": [
       "                  Pred Fraud  Pred Non-Fraud\n",
       "Actual Fraud               0            1639\n",
       "Actual Non-Fraud           0         1270885"
      ]
     },
     "execution_count": 46,
     "metadata": {},
     "output_type": "execute_result"
    }
   ],
   "source": [
    "print_confusion_matrix(y_test,normalized_imbalanced_y_pred)"
   ]
  },
  {
   "cell_type": "code",
   "execution_count": 47,
   "metadata": {},
   "outputs": [
    {
     "data": {
      "image/png": "[encoded data removed]",
      "text/plain": [
       "<Figure size 432x288 with 1 Axes>"
      ]
     },
     "metadata": {
      "needs_background": "light"
     },
     "output_type": "display_data"
    },
    {
     "data": {
      "image/png": "[encoded data removed]",
      "text/plain": [
       "<Figure size 432x288 with 1 Axes>"
      ]
     },
     "metadata": {
      "needs_background": "light"
     },
     "output_type": "display_data"
    }
   ],
   "source": [
    "plot_learningCurve(minamx_imbalaned_ann_fit,num_epochs)"
   ]
  },
  {
   "cell_type": "code",
   "execution_count": 50,
   "metadata": {},
   "outputs": [],
   "source": [
    "# save nornalized imbalanced_ann model\n",
    "# serialize model to JSON\n",
    "with open(\"models/normalized-imbalaned-ann_fraud-detector.json\", \"w\") as json_file:\n",
    "    json_file.write(minmax_imbalanced_ann.to_json())\n",
    "# serialize weights to HDF5\n",
    "minmax_imbalanced_ann.save_weights(\"models/normalized-imbalaned-ann-fraud-detector.h5\")\n",
    "del minmax_imbalanced_ann\n",
    "del minmax_imbalaned_ann_fit\n",
    "del normalized_imbalanced_y_pred"
   ]
  },
  {
   "cell_type": "markdown",
   "metadata": {},
   "source": [
    "### Feedforward with Randomly Balanced Small Dataset"
   ]
  },
  {
   "cell_type": "code",
   "execution_count": 51,
   "metadata": {},
   "outputs": [],
   "source": [
    "balanced_ann = Sequential()\n",
    "\n",
    "balanced_ann.add(InputLayer(input_shape=(11,)))\n",
    "balanced_ann.add(Dense(64,activation='relu'))\n",
    "balanced_ann.add(Dropout(0.2))\n",
    "balanced_ann.add(Dense(32,activation='relu'))\n",
    "balanced_ann.add(Dropout(0.1))\n",
    "balanced_ann.add(Dense(1,activation='sigmoid'))"
   ]
  },
  {
   "cell_type": "code",
   "execution_count": 52,
   "metadata": {},
   "outputs": [
    {
     "name": "stdout",
     "output_type": "stream",
     "text": [
      "Model: \"sequential_1\"\n",
      "_________________________________________________________________\n",
      "Layer (type)                 Output Shape              Param #   \n",
      "=================================================================\n",
      "dense_3 (Dense)              (None, 64)                768       \n",
      "_________________________________________________________________\n",
      "dropout_2 (Dropout)          (None, 64)                0         \n",
      "_________________________________________________________________\n",
      "dense_4 (Dense)              (None, 32)                2080      \n",
      "_________________________________________________________________\n",
      "dropout_3 (Dropout)          (None, 32)                0         \n",
      "_________________________________________________________________\n",
      "dense_5 (Dense)              (None, 1)                 33        \n",
      "=================================================================\n",
      "Total params: 2,881\n",
      "Trainable params: 2,881\n",
      "Non-trainable params: 0\n",
      "_________________________________________________________________\n"
     ]
    }
   ],
   "source": [
    "balanced_ann.summary()"
   ]
  },
  {
   "cell_type": "code",
   "execution_count": 53,
   "metadata": {},
   "outputs": [],
   "source": [
    "balanced_ann.compile(loss=loss_function,optimizer=optimization_function,metrics=[metric])"
   ]
  },
  {
   "cell_type": "code",
   "execution_count": 54,
   "metadata": {},
   "outputs": [],
   "source": [
    "filepath=\"models/balanced-ann-weights-improvement-{epoch:02d}-{val_\"+metric+\":.2f}.hdf5\"\n",
    "checkpoint = ModelCheckpoint(filepath, monitor='val_'+metric, verbose=1, save_best_only=True, mode='max')\n",
    "callbacks_list_balanced_ann = [checkpoint]"
   ]
  },
  {
   "cell_type": "code",
   "execution_count": 55,
   "metadata": {},
   "outputs": [
    {
     "name": "stdout",
     "output_type": "stream",
     "text": [
      "Train on 10512 samples, validate on 2628 samples\n",
      "Epoch 1/5\n",
      "10080/10512 [===========================>..] - ETA: 0s - loss: 0.3258 - binary_accuracy: 0.8541\n",
      "Epoch 00001: val_binary_accuracy improved from -inf to 0.88813, saving model to models/balanced-ann-weights-improvement-01-0.89.hdf5\n",
      "10512/10512 [==============================] - 3s 308us/sample - loss: 0.3239 - binary_accuracy: 0.8549 - val_loss: 0.2354 - val_binary_accuracy: 0.8881\n",
      "Epoch 2/5\n",
      "10080/10512 [===========================>..] - ETA: 0s - loss: 0.2564 - binary_accuracy: 0.8879\n",
      "Epoch 00002: val_binary_accuracy improved from 0.88813 to 0.89536, saving model to models/balanced-ann-weights-improvement-02-0.90.hdf5\n",
      "10512/10512 [==============================] - 1s 126us/sample - loss: 0.2559 - binary_accuracy: 0.8885 - val_loss: 0.2225 - val_binary_accuracy: 0.8954\n",
      "Epoch 3/5\n",
      "10176/10512 [============================>.] - ETA: 0s - loss: 0.2404 - binary_accuracy: 0.8952\n",
      "Epoch 00003: val_binary_accuracy improved from 0.89536 to 0.90906, saving model to models/balanced-ann-weights-improvement-03-0.91.hdf5\n",
      "10512/10512 [==============================] - 1s 126us/sample - loss: 0.2398 - binary_accuracy: 0.8954 - val_loss: 0.1964 - val_binary_accuracy: 0.9091\n",
      "Epoch 4/5\n",
      "10496/10512 [============================>.] - ETA: 0s - loss: 0.2299 - binary_accuracy: 0.8977\n",
      "Epoch 00004: val_binary_accuracy improved from 0.90906 to 0.91438, saving model to models/balanced-ann-weights-improvement-04-0.91.hdf5\n",
      "10512/10512 [==============================] - 2s 180us/sample - loss: 0.2297 - binary_accuracy: 0.8977 - val_loss: 0.1830 - val_binary_accuracy: 0.9144\n",
      "Epoch 5/5\n",
      "10240/10512 [============================>.] - ETA: 0s - loss: 0.2177 - binary_accuracy: 0.9062\n",
      "Epoch 00005: val_binary_accuracy improved from 0.91438 to 0.91819, saving model to models/balanced-ann-weights-improvement-05-0.92.hdf5\n",
      "10512/10512 [==============================] - 2s 165us/sample - loss: 0.2172 - binary_accuracy: 0.9060 - val_loss: 0.1796 - val_binary_accuracy: 0.9182\n"
     ]
    }
   ],
   "source": [
    "standard_balaned_ann_fit = balanced_ann.fit(rand_standard_x_train,rand_y_train,\n",
    "                                            callbacks=callbacks_list_balanced_ann,\n",
    "                                            batch_size=batch_bin,epochs=num_epochs,\n",
    "                                            validation_split=validate_pct)"
   ]
  },
  {
   "cell_type": "code",
   "execution_count": 56,
   "metadata": {},
   "outputs": [],
   "source": [
    "standardized_balanced_y_pred = balanced_ann.predict_classes(rand_standard_x_test)"
   ]
  },
  {
   "cell_type": "code",
   "execution_count": 57,
   "metadata": {},
   "outputs": [
    {
     "name": "stdout",
     "output_type": "stream",
     "text": [
      "Percent of true positives: 87.45%\n",
      "Percent of false negatives: 12.55%\n",
      "Percent of true negatives: 95.24%\n",
      "Percent of false positives: 4.76%\n"
     ]
    },
    {
     "data": {
      "text/html": [
       "<div>\n",
       "<style scoped>\n",
       "    .dataframe tbody tr th:only-of-type {\n",
       "        vertical-align: middle;\n",
       "    }\n",
       "\n",
       "    .dataframe tbody tr th {\n",
       "        vertical-align: top;\n",
       "    }\n",
       "\n",
       "    .dataframe thead th {\n",
       "        text-align: right;\n",
       "    }\n",
       "</style>\n",
       "<table border=\"1\" class=\"dataframe\">\n",
       "  <thead>\n",
       "    <tr style=\"text-align: right;\">\n",
       "      <th></th>\n",
       "      <th>Pred Fraud</th>\n",
       "      <th>Pred Non-Fraud</th>\n",
       "    </tr>\n",
       "  </thead>\n",
       "  <tbody>\n",
       "    <tr>\n",
       "      <th>Actual Fraud</th>\n",
       "      <td>1421</td>\n",
       "      <td>204</td>\n",
       "    </tr>\n",
       "    <tr>\n",
       "      <th>Actual Non-Fraud</th>\n",
       "      <td>79</td>\n",
       "      <td>1582</td>\n",
       "    </tr>\n",
       "  </tbody>\n",
       "</table>\n",
       "</div>"
      ],
      "text/plain": [
       "                  Pred Fraud  Pred Non-Fraud\n",
       "Actual Fraud            1421             204\n",
       "Actual Non-Fraud          79            1582"
      ]
     },
     "execution_count": 57,
     "metadata": {},
     "output_type": "execute_result"
    }
   ],
   "source": [
    "print_confusion_matrix(rand_y_test,standardized_balanced_y_pred)"
   ]
  },
  {
   "cell_type": "code",
   "execution_count": 58,
   "metadata": {},
   "outputs": [
    {
     "data": {
      "image/png": "[encoded data removed]",
      "text/plain": [
       "<Figure size 432x288 with 1 Axes>"
      ]
     },
     "metadata": {
      "needs_background": "light"
     },
     "output_type": "display_data"
    },
    {
     "data": {
      "image/png": "[encoded data removed]",
      "text/plain": [
       "<Figure size 432x288 with 1 Axes>"
      ]
     },
     "metadata": {
      "needs_background": "light"
     },
     "output_type": "display_data"
    }
   ],
   "source": [
    "plot_learningCurve(standard_balaned_ann_fit,num_epochs)"
   ]
  },
  {
   "cell_type": "code",
   "execution_count": 59,
   "metadata": {},
   "outputs": [],
   "source": [
    "# save nornalized imbalanced_ann model\n",
    "# serialize model to JSON\n",
    "with open(\"models/standardized-imbalaned-ann-fraud-detector.json\", \"w\") as json_file:\n",
    "    json_file.write(balanced_ann.to_json())\n",
    "# serialize weights to HDF5\n",
    "balanced_ann.save_weights(\"models/standardized-imbalaned-ann-fraud-detector.h5\")\n",
    "del balanced_ann\n",
    "del standard_balaned_ann_fit\n",
    "del standardized_balanced_y_pred"
   ]
  },
  {
   "cell_type": "markdown",
   "metadata": {},
   "source": [
    "### Feed Forward with SMOTE Big Dataset"
   ]
  },
  {
   "cell_type": "code",
   "execution_count": 24,
   "metadata": {},
   "outputs": [],
   "source": [
    "standard_smote_ann = Sequential()\n",
    "\n",
    "standard_smote_ann.add(InputLayer(input_shape=(11,)))\n",
    "standard_smote_ann.add(Dense(64,activation='relu'))\n",
    "standard_smote_ann.add(Dropout(0.2))\n",
    "standard_smote_ann.add(Dense(32,activation='relu'))\n",
    "standard_smote_ann.add(Dropout(0.1))\n",
    "standard_smote_ann.add(Dense(1,activation='sigmoid'))"
   ]
  },
  {
   "cell_type": "code",
   "execution_count": 25,
   "metadata": {},
   "outputs": [
    {
     "name": "stdout",
     "output_type": "stream",
     "text": [
      "Model: \"sequential\"\n",
      "_________________________________________________________________\n",
      "Layer (type)                 Output Shape              Param #   \n",
      "=================================================================\n",
      "dense (Dense)                (None, 64)                768       \n",
      "_________________________________________________________________\n",
      "dropout (Dropout)            (None, 64)                0         \n",
      "_________________________________________________________________\n",
      "dense_1 (Dense)              (None, 32)                2080      \n",
      "_________________________________________________________________\n",
      "dropout_1 (Dropout)          (None, 32)                0         \n",
      "_________________________________________________________________\n",
      "dense_2 (Dense)              (None, 1)                 33        \n",
      "=================================================================\n",
      "Total params: 2,881\n",
      "Trainable params: 2,881\n",
      "Non-trainable params: 0\n",
      "_________________________________________________________________\n"
     ]
    }
   ],
   "source": [
    "standard_smote_ann.summary()"
   ]
  },
  {
   "cell_type": "code",
   "execution_count": 26,
   "metadata": {},
   "outputs": [],
   "source": [
    "standard_smote_ann.compile(loss=loss_function,optimizer=optimization_function,metrics=[metric])"
   ]
  },
  {
   "cell_type": "code",
   "execution_count": 32,
   "metadata": {},
   "outputs": [],
   "source": [
    "filepath=\"models/smote-balanced-ann-weights-improvement-{epoch:02d}-{val_\"+metric+\":.2f}.hdf5\"\n",
    "checkpoint = ModelCheckpoint(filepath, monitor='val_'+metric, verbose=1, save_best_only=True, mode='max')\n",
    "callbacks_list_smote_balanced_ann = [checkpoint]"
   ]
  },
  {
   "cell_type": "code",
   "execution_count": 33,
   "metadata": {},
   "outputs": [
    {
     "name": "stdout",
     "output_type": "stream",
     "text": [
      "Train on 8133776 samples, validate on 2033444 samples\n",
      "Epoch 1/5\n",
      "8133536/8133776 [============================>.] - ETA: 0s - loss: 0.1010 - binary_accuracy: 0.9728\n",
      "Epoch 00001: val_binary_accuracy improved from -inf to 0.99259, saving model to models/smote-balanced-ann-weights-improvement-01-0.99.hdf5\n",
      "8133776/8133776 [==============================] - 840s 103us/sample - loss: 0.1010 - binary_accuracy: 0.9728 - val_loss: 0.0918 - val_binary_accuracy: 0.9926\n",
      "Epoch 2/5\n",
      "8133344/8133776 [============================>.] - ETA: 0s - loss: 0.1047 - binary_accuracy: 0.9784\n",
      "Epoch 00002: val_binary_accuracy did not improve from 0.99259\n",
      "8133776/8133776 [==============================] - 865s 106us/sample - loss: 0.1047 - binary_accuracy: 0.9784 - val_loss: 0.0509 - val_binary_accuracy: 0.9923\n",
      "Epoch 3/5\n",
      "8133408/8133776 [============================>.] - ETA: 0s - loss: 0.0997 - binary_accuracy: 0.9804\n",
      "Epoch 00003: val_binary_accuracy improved from 0.99259 to 0.99327, saving model to models/smote-balanced-ann-weights-improvement-03-0.99.hdf5\n",
      "8133776/8133776 [==============================] - 871s 107us/sample - loss: 0.0997 - binary_accuracy: 0.9804 - val_loss: 0.0956 - val_binary_accuracy: 0.9933\n",
      "Epoch 4/5\n",
      "8133632/8133776 [============================>.] - ETA: 0s - loss: 0.0996 - binary_accuracy: 0.9817\n",
      "Epoch 00004: val_binary_accuracy did not improve from 0.99327\n",
      "8133776/8133776 [==============================] - 890s 109us/sample - loss: 0.0996 - binary_accuracy: 0.9817 - val_loss: 0.0941 - val_binary_accuracy: 0.9920\n",
      "Epoch 5/5\n",
      "8133536/8133776 [============================>.] - ETA: 0s - loss: 0.0960 - binary_accuracy: 0.9824\n",
      "Epoch 00005: val_binary_accuracy improved from 0.99327 to 0.99328, saving model to models/smote-balanced-ann-weights-improvement-05-0.99.hdf5\n",
      "8133776/8133776 [==============================] - 934s 115us/sample - loss: 0.0960 - binary_accuracy: 0.9824 - val_loss: 0.1085 - val_binary_accuracy: 0.9933\n"
     ]
    }
   ],
   "source": [
    "standardized_smote_fit=standard_smote_ann.fit(standard_x_train_sm,standard_y_train_sm,\n",
    "                                              callbacks=callbacks_list_smote_balanced_ann,\n",
    "                                              batch_size=batch_bin,epochs=num_epochs,\n",
    "                                              validation_split=validate_pct)"
   ]
  },
  {
   "cell_type": "code",
   "execution_count": 34,
   "metadata": {},
   "outputs": [],
   "source": [
    "standardized_smote_y_pred = standard_smote_ann.predict_classes(standard_x_test)"
   ]
  },
  {
   "cell_type": "code",
   "execution_count": 35,
   "metadata": {},
   "outputs": [
    {
     "name": "stdout",
     "output_type": "stream",
     "text": [
      "Percent of true positives: 98.49%\n",
      "Percent of false negatives: 1.51%\n",
      "Percent of true negatives: 98.54%\n",
      "Percent of false positives: 1.46%\n"
     ]
    },
    {
     "data": {
      "text/html": [
       "<div>\n",
       "<style scoped>\n",
       "    .dataframe tbody tr th:only-of-type {\n",
       "        vertical-align: middle;\n",
       "    }\n",
       "\n",
       "    .dataframe tbody tr th {\n",
       "        vertical-align: top;\n",
       "    }\n",
       "\n",
       "    .dataframe thead th {\n",
       "        text-align: right;\n",
       "    }\n",
       "</style>\n",
       "<table border=\"1\" class=\"dataframe\">\n",
       "  <thead>\n",
       "    <tr style=\"text-align: right;\">\n",
       "      <th></th>\n",
       "      <th>Pred Fraud</th>\n",
       "      <th>Pred Non-Fraud</th>\n",
       "    </tr>\n",
       "  </thead>\n",
       "  <tbody>\n",
       "    <tr>\n",
       "      <th>Actual Fraud</th>\n",
       "      <td>1701</td>\n",
       "      <td>26</td>\n",
       "    </tr>\n",
       "    <tr>\n",
       "      <th>Actual Non-Fraud</th>\n",
       "      <td>18524</td>\n",
       "      <td>1252273</td>\n",
       "    </tr>\n",
       "  </tbody>\n",
       "</table>\n",
       "</div>"
      ],
      "text/plain": [
       "                  Pred Fraud  Pred Non-Fraud\n",
       "Actual Fraud            1701              26\n",
       "Actual Non-Fraud       18524         1252273"
      ]
     },
     "execution_count": 35,
     "metadata": {},
     "output_type": "execute_result"
    }
   ],
   "source": [
    "print_confusion_matrix(y_test,standardized_smote_y_pred)"
   ]
  },
  {
   "cell_type": "code",
   "execution_count": 36,
   "metadata": {},
   "outputs": [
    {
     "data": {
      "image/png": "[encoded data removed]",
      "text/plain": [
       "<Figure size 432x288 with 1 Axes>"
      ]
     },
     "metadata": {
      "needs_background": "light"
     },
     "output_type": "display_data"
    },
    {
     "data": {
      "image/png": "[encoded data removed]",
      "text/plain": [
       "<Figure size 432x288 with 1 Axes>"
      ]
     },
     "metadata": {
      "needs_background": "light"
     },
     "output_type": "display_data"
    }
   ],
   "source": [
    "plot_learningCurve(standardized_smote_fit,num_epochs)"
   ]
  },
  {
   "cell_type": "code",
   "execution_count": 37,
   "metadata": {},
   "outputs": [],
   "source": [
    "# save nornalized imbalanced_ann model\n",
    "# serialize model to JSON\n",
    "with open(\"models/standardized_smote_balaned_ann_fraud_detector.json\", \"w\") as json_file:\n",
    "    json_file.write(standard_smote_ann.to_json())\n",
    "# serialize weights to HDF5\n",
    "standard_smote_ann.save_weights(\"models/standardized_smote_balaned_ann_fraud_detector.h5\")\n",
    "del standardized_smote_fit\n",
    "del standardized_smote_y_pred"
   ]
  },
  {
   "cell_type": "code",
   "execution_count": 27,
   "metadata": {},
   "outputs": [],
   "source": [
    "filepath=\"models/normalized-smote-balanced-ann-weights-improvement-{epoch:02d}-{val_\"+metric+\":.2f}.hdf5\"\n",
    "checkpoint = ModelCheckpoint(filepath, monitor='val_'+metric, verbose=1, save_best_only=True, mode='max')\n",
    "callbacks_list_minmax_smote_balanced_ann = [checkpoint]"
   ]
  },
  {
   "cell_type": "code",
   "execution_count": 28,
   "metadata": {},
   "outputs": [
    {
     "name": "stdout",
     "output_type": "stream",
     "text": [
      "Train on 8133587 samples, validate on 2033397 samples\n",
      "Epoch 1/5\n",
      "8133152/8133587 [============================>.] - ETA: 0s - loss: 0.1196 - binary_accuracy: 0.9747- ETA: 0s - loss: 0.1196 - binary_accuracy: \n",
      "Epoch 00001: val_binary_accuracy improved from -inf to 0.93442, saving model to models/normalized-smote-balanced-ann-weights-improvement-01-0.93.hdf5\n",
      "8133587/8133587 [==============================] - 1019s 125us/sample - loss: 0.1196 - binary_accuracy: 0.9748 - val_loss: 0.2684 - val_binary_accuracy: 0.9344\n",
      "Epoch 2/5\n",
      "8133152/8133587 [============================>.] - ETA: 0s - loss: 0.0784 - binary_accuracy: 0.9853\n",
      "Epoch 00002: val_binary_accuracy improved from 0.93442 to 0.98975, saving model to models/normalized-smote-balanced-ann-weights-improvement-02-0.99.hdf5\n",
      "8133587/8133587 [==============================] - 992s 122us/sample - loss: 0.0784 - binary_accuracy: 0.9853 - val_loss: 0.1016 - val_binary_accuracy: 0.9898\n",
      "Epoch 3/5\n",
      "8133536/8133587 [============================>.] - ETA: 0s - loss: 0.0642 - binary_accuracy: 0.9874\n",
      "Epoch 00003: val_binary_accuracy improved from 0.98975 to 0.99370, saving model to models/normalized-smote-balanced-ann-weights-improvement-03-0.99.hdf5\n",
      "8133587/8133587 [==============================] - 1001s 123us/sample - loss: 0.0642 - binary_accuracy: 0.9874 - val_loss: 0.0881 - val_binary_accuracy: 0.9937\n",
      "Epoch 4/5\n",
      "8133568/8133587 [============================>.] - ETA: 0s - loss: 0.0577 - binary_accuracy: 0.9884\n",
      "Epoch 00004: val_binary_accuracy did not improve from 0.99370\n",
      "8133587/8133587 [==============================] - 1091s 134us/sample - loss: 0.0577 - binary_accuracy: 0.9884 - val_loss: 0.0524 - val_binary_accuracy: 0.9931\n",
      "Epoch 5/5\n",
      "8133408/8133587 [============================>.] - ETA: 0s - loss: 0.0568 - binary_accuracy: 0.9891\n",
      "Epoch 00005: val_binary_accuracy did not improve from 0.99370\n",
      "8133587/8133587 [==============================] - 1027s 126us/sample - loss: 0.0568 - binary_accuracy: 0.9891 - val_loss: 0.1359 - val_binary_accuracy: 0.9583\n"
     ]
    }
   ],
   "source": [
    "minmax_smote_ann=keras.models.clone_model(standard_smote_ann)\n",
    "del standard_smote_ann\n",
    "minmax_smote_ann.compile(loss=loss_function,optimizer=optimization_function,metrics=[metric])\n",
    "minmax_smote_fit=minmax_smote_ann.fit(minmax_x_train_sm,minmax_y_train_sm,\n",
    "                                      callbacks=callbacks_list_minmax_smote_balanced_ann,\n",
    "                                      batch_size=batch_bin,epochs=num_epochs,validation_split=validate_pct)"
   ]
  },
  {
   "cell_type": "code",
   "execution_count": 29,
   "metadata": {},
   "outputs": [],
   "source": [
    "minmax_smote_y_pred = minmax_smote_ann.predict_classes(minmax_x_test)"
   ]
  },
  {
   "cell_type": "code",
   "execution_count": 30,
   "metadata": {},
   "outputs": [
    {
     "name": "stdout",
     "output_type": "stream",
     "text": [
      "Percent of true positives: 93.85%\n",
      "Percent of false negatives: 6.15%\n",
      "Percent of true negatives: 99.70%\n",
      "Percent of false positives: 0.30%\n"
     ]
    },
    {
     "data": {
      "text/html": [
       "<div>\n",
       "<style scoped>\n",
       "    .dataframe tbody tr th:only-of-type {\n",
       "        vertical-align: middle;\n",
       "    }\n",
       "\n",
       "    .dataframe tbody tr th {\n",
       "        vertical-align: top;\n",
       "    }\n",
       "\n",
       "    .dataframe thead th {\n",
       "        text-align: right;\n",
       "    }\n",
       "</style>\n",
       "<table border=\"1\" class=\"dataframe\">\n",
       "  <thead>\n",
       "    <tr style=\"text-align: right;\">\n",
       "      <th></th>\n",
       "      <th>Pred Fraud</th>\n",
       "      <th>Pred Non-Fraud</th>\n",
       "    </tr>\n",
       "  </thead>\n",
       "  <tbody>\n",
       "    <tr>\n",
       "      <th>Actual Fraud</th>\n",
       "      <td>1510</td>\n",
       "      <td>99</td>\n",
       "    </tr>\n",
       "    <tr>\n",
       "      <th>Actual Non-Fraud</th>\n",
       "      <td>3765</td>\n",
       "      <td>1267150</td>\n",
       "    </tr>\n",
       "  </tbody>\n",
       "</table>\n",
       "</div>"
      ],
      "text/plain": [
       "                  Pred Fraud  Pred Non-Fraud\n",
       "Actual Fraud            1510              99\n",
       "Actual Non-Fraud        3765         1267150"
      ]
     },
     "execution_count": 30,
     "metadata": {},
     "output_type": "execute_result"
    }
   ],
   "source": [
    "print_confusion_matrix(y_test,minmax_smote_y_pred)"
   ]
  },
  {
   "cell_type": "code",
   "execution_count": 32,
   "metadata": {},
   "outputs": [
    {
     "data": {
      "image/png": "[encoded data removed]",
      "text/plain": [
       "<Figure size 432x288 with 1 Axes>"
      ]
     },
     "metadata": {
      "needs_background": "light"
     },
     "output_type": "display_data"
    },
    {
     "data": {
      "image/png": "[encoded data removed]",
      "text/plain": [
       "<Figure size 432x288 with 1 Axes>"
      ]
     },
     "metadata": {
      "needs_background": "light"
     },
     "output_type": "display_data"
    }
   ],
   "source": [
    "plot_learningCurve(minmax_smote_fit,num_epochs)"
   ]
  },
  {
   "cell_type": "code",
   "execution_count": 37,
   "metadata": {},
   "outputs": [],
   "source": [
    "# save nornalized imbalanced_ann model\n",
    "# serialize model to JSON\n",
    "with open(\"models/normalized-smote-balaned-ann-fraud-detector.json\", \"w\") as json_file:\n",
    "    json_file.write(minmax_smote_ann.to_json())\n",
    "# serialize weights to HDF5\n",
    "minmax_smote_ann.save_weights(\"models/normalized-smote-balaned-ann-fraud-detector.h5\")\n",
    "del minmax_smote_ann\n",
    "del minmax_smote_fit\n",
    "del minmax_smote_y_pred"
   ]
  },
  {
   "cell_type": "markdown",
   "metadata": {},
   "source": [
    "### Autoencoder Neural Network"
   ]
  },
  {
   "cell_type": "code",
   "execution_count": 38,
   "metadata": {},
   "outputs": [
    {
     "name": "stdout",
     "output_type": "stream",
     "text": [
      "Model: \"sequential_1\"\n",
      "_________________________________________________________________\n",
      "Layer (type)                 Output Shape              Param #   \n",
      "=================================================================\n",
      "dense_3 (Dense)              (None, 32)                384       \n",
      "_________________________________________________________________\n",
      "dense_4 (Dense)              (None, 6)                 198       \n",
      "_________________________________________________________________\n",
      "dense_5 (Dense)              (None, 6)                 42        \n",
      "_________________________________________________________________\n",
      "dense_6 (Dense)              (None, 32)                224       \n",
      "_________________________________________________________________\n",
      "dense_7 (Dense)              (None, 11)                363       \n",
      "=================================================================\n",
      "Total params: 1,211\n",
      "Trainable params: 1,211\n",
      "Non-trainable params: 0\n",
      "_________________________________________________________________\n"
     ]
    }
   ],
   "source": [
    "autoencoder = Sequential()\n",
    "\n",
    "autoencoder.add(InputLayer(input_shape=(11,)))\n",
    "autoencoder.add(Dense(32,activation='relu', activity_regularizer=regularizers.l1(learning_rate)))\n",
    "autoencoder.add(Dense(6,activation='relu'))\n",
    "autoencoder.add(Dense(6,activation='relu'))\n",
    "autoencoder.add(Dense(32,activation='relu'))\n",
    "autoencoder.add(Dense(11,activation='linear'))\n",
    "\n",
    "autoencoder.summary()"
   ]
  },
  {
   "cell_type": "code",
   "execution_count": 39,
   "metadata": {},
   "outputs": [],
   "source": [
    "autoencoder.compile(metrics=['accuracy'],\n",
    "                    loss='mean_squared_error',\n",
    "                    optimizer='adam')"
   ]
  },
  {
   "cell_type": "code",
   "execution_count": 40,
   "metadata": {},
   "outputs": [],
   "source": [
    "filepath=\"models/standardized-autoencoder-weights-improvement-{epoch:02d}-{val_accuracy:.2f}.hdf5\"\n",
    "checkpoint = ModelCheckpoint(filepath,monitor='val_accuracy',verbose=1,save_best_only=True,mode='max')\n",
    "callbacks_list_standard_autoencoder = [checkpoint]"
   ]
  },
  {
   "cell_type": "code",
   "execution_count": 41,
   "metadata": {},
   "outputs": [
    {
     "name": "stdout",
     "output_type": "stream",
     "text": [
      "Train on 4066781 samples, validate on 1016735 samples\n",
      "Epoch 1/5\n",
      "4066700/4066781 [============================>.] - ETA: 0s - loss: 0.0088 - accuracy: 0.9844\n",
      "Epoch 00001: val_accuracy improved from -inf to 0.99437, saving model to models/standardized-autoencoder-weights-improvement-01-0.99.hdf5\n",
      "4066781/4066781 [==============================] - 318s 78us/sample - loss: 0.0088 - accuracy: 0.9844 - val_loss: 0.0024 - val_accuracy: 0.9944\n",
      "Epoch 2/5\n",
      "4066500/4066781 [============================>.] - ETA: 0s - loss: 0.0019 - accuracy: 0.9949\n",
      "Epoch 00002: val_accuracy improved from 0.99437 to 0.99482, saving model to models/standardized-autoencoder-weights-improvement-02-0.99.hdf5\n",
      "4066781/4066781 [==============================] - 319s 78us/sample - loss: 0.0019 - accuracy: 0.9949 - val_loss: 0.0018 - val_accuracy: 0.9948\n",
      "Epoch 3/5\n",
      "4066700/4066781 [============================>.] - ETA: 0s - loss: 0.0016 - accuracy: 0.9960\n",
      "Epoch 00003: val_accuracy did not improve from 0.99482\n",
      "4066781/4066781 [==============================] - 285s 70us/sample - loss: 0.0016 - accuracy: 0.9960 - val_loss: 0.0058 - val_accuracy: 0.9829\n",
      "Epoch 4/5\n",
      "4066350/4066781 [============================>.] - ETA: 0s - loss: 0.0017 - accuracy: 0.9960\n",
      "Epoch 00004: val_accuracy improved from 0.99482 to 0.99850, saving model to models/standardized-autoencoder-weights-improvement-04-1.00.hdf5\n",
      "4066781/4066781 [==============================] - 318s 78us/sample - loss: 0.0017 - accuracy: 0.9960 - val_loss: 0.0014 - val_accuracy: 0.9985\n",
      "Epoch 5/5\n",
      "4066750/4066781 [============================>.] - ETA: 0s - loss: 0.0014 - accuracy: 0.9966\n",
      "Epoch 00005: val_accuracy did not improve from 0.99850\n",
      "4066781/4066781 [==============================] - 296s 73us/sample - loss: 0.0014 - accuracy: 0.9966 - val_loss: 0.0017 - val_accuracy: 0.9954\n"
     ]
    }
   ],
   "source": [
    "standard_fit_ae = autoencoder.fit(df_train_0_x_rescaled, df_train_0_x_rescaled,\n",
    "                                  epochs=5,batch_size=50,shuffle=True,verbose=1,\n",
    "                                  callbacks=callbacks_list_standard_autoencoder,\n",
    "                                  validation_data=(df_valid_0_x_rescaled, df_valid_0_x_rescaled)).history"
   ]
  },
  {
   "cell_type": "code",
   "execution_count": 44,
   "metadata": {},
   "outputs": [
    {
     "data": {
      "image/png": "[encoded data removed]",
      "text/plain": [
       "<Figure size 432x288 with 1 Axes>"
      ]
     },
     "metadata": {
      "needs_background": "light"
     },
     "output_type": "display_data"
    }
   ],
   "source": [
    "plt.plot(standard_fit_ae['loss'], linewidth=2, label='Train')\n",
    "plt.plot(standard_fit_ae['val_loss'], linewidth=2, label='Valid')\n",
    "plt.legend(loc='upper right')\n",
    "plt.title('Standard Autodecoder Loss')\n",
    "plt.ylabel('Loss')\n",
    "plt.xlabel('Epoch')\n",
    "plt.show()"
   ]
  },
  {
   "cell_type": "code",
   "execution_count": 45,
   "metadata": {},
   "outputs": [
    {
     "data": {
      "image/png": "[encoded data removed]",
      "text/plain": [
       "<Figure size 432x288 with 1 Axes>"
      ]
     },
     "metadata": {
      "needs_background": "light"
     },
     "output_type": "display_data"
    }
   ],
   "source": [
    "plt.plot(standard_fit_ae['accuracy'], linewidth=2, label='Train')\n",
    "plt.plot(standard_fit_ae['val_accuracy'], linewidth=2, label='Valid')\n",
    "plt.legend(loc='lower right')\n",
    "plt.title('Standard Autodecoder Accuracy')\n",
    "plt.ylabel('Loss')\n",
    "plt.xlabel('Epoch')\n",
    "plt.show()"
   ]
  },
  {
   "cell_type": "code",
   "execution_count": 46,
   "metadata": {},
   "outputs": [
    {
     "data": {
      "image/png": "[encoded data removed]",
      "text/plain": [
       "<Figure size 432x288 with 1 Axes>"
      ]
     },
     "metadata": {
      "needs_background": "light"
     },
     "output_type": "display_data"
    }
   ],
   "source": [
    "# finding an optimal threshold point for the autoencoder classifier\n",
    "valid_x_predictions = autoencoder.predict(df_valid_x_rescaled)\n",
    "mse = np.mean(np.power(df_valid_x_rescaled - valid_x_predictions, 2), axis=1)\n",
    "error_df = pd.DataFrame({'Reconstruction_error': mse,\n",
    "                        'True_class': valid_ae['isFraud']})\n",
    "\n",
    "precision_rt, recall_rt, threshold_rt = precision_recall_curve(error_df.True_class, error_df.Reconstruction_error)\n",
    "plt.plot(threshold_rt, precision_rt[1:], label=\"Precision\",linewidth=5)\n",
    "plt.plot(threshold_rt, recall_rt[1:], label=\"Recall\",linewidth=5)\n",
    "plt.title('Precision and recall for different threshold values')\n",
    "plt.xlabel('Threshold')\n",
    "plt.ylabel('Precision/Recall')\n",
    "plt.legend()\n",
    "plt.show()"
   ]
  },
  {
   "cell_type": "code",
   "execution_count": 47,
   "metadata": {},
   "outputs": [
    {
     "data": {
      "text/plain": [
       "array([0.00126571, 0.00126473, 0.00126473, ..., 1.        , 1.        ,\n",
       "       1.        ])"
      ]
     },
     "execution_count": 47,
     "metadata": {},
     "output_type": "execute_result"
    }
   ],
   "source": [
    "precision_rt.T"
   ]
  },
  {
   "cell_type": "code",
   "execution_count": 48,
   "metadata": {},
   "outputs": [],
   "source": [
    "thresh = pd.DataFrame([precision_rt,recall_rt,threshold_rt])"
   ]
  },
  {
   "cell_type": "code",
   "execution_count": 49,
   "metadata": {},
   "outputs": [],
   "source": [
    "thresh = thresh.T\n",
    "thresh.columns = ['precision_rt','recall_rt','threshold_rt']"
   ]
  },
  {
   "cell_type": "code",
   "execution_count": 50,
   "metadata": {
    "scrolled": true
   },
   "outputs": [
    {
     "data": {
      "text/html": [
       "<div>\n",
       "<style scoped>\n",
       "    .dataframe tbody tr th:only-of-type {\n",
       "        vertical-align: middle;\n",
       "    }\n",
       "\n",
       "    .dataframe tbody tr th {\n",
       "        vertical-align: top;\n",
       "    }\n",
       "\n",
       "    .dataframe thead th {\n",
       "        text-align: right;\n",
       "    }\n",
       "</style>\n",
       "<table border=\"1\" class=\"dataframe\">\n",
       "  <thead>\n",
       "    <tr style=\"text-align: right;\">\n",
       "      <th></th>\n",
       "      <th>precision_rt</th>\n",
       "      <th>recall_rt</th>\n",
       "      <th>threshold_rt</th>\n",
       "    </tr>\n",
       "  </thead>\n",
       "  <tbody>\n",
       "    <tr>\n",
       "      <th>0</th>\n",
       "      <td>0.001266</td>\n",
       "      <td>1.000000</td>\n",
       "      <td>0.000020</td>\n",
       "    </tr>\n",
       "    <tr>\n",
       "      <th>1</th>\n",
       "      <td>0.001265</td>\n",
       "      <td>0.999222</td>\n",
       "      <td>0.000020</td>\n",
       "    </tr>\n",
       "    <tr>\n",
       "      <th>2</th>\n",
       "      <td>0.001265</td>\n",
       "      <td>0.999222</td>\n",
       "      <td>0.000020</td>\n",
       "    </tr>\n",
       "    <tr>\n",
       "      <th>3</th>\n",
       "      <td>0.001265</td>\n",
       "      <td>0.999222</td>\n",
       "      <td>0.000020</td>\n",
       "    </tr>\n",
       "    <tr>\n",
       "      <th>4</th>\n",
       "      <td>0.001265</td>\n",
       "      <td>0.999222</td>\n",
       "      <td>0.000020</td>\n",
       "    </tr>\n",
       "    <tr>\n",
       "      <th>5</th>\n",
       "      <td>0.001265</td>\n",
       "      <td>0.999222</td>\n",
       "      <td>0.000020</td>\n",
       "    </tr>\n",
       "    <tr>\n",
       "      <th>6</th>\n",
       "      <td>0.001265</td>\n",
       "      <td>0.999222</td>\n",
       "      <td>0.000020</td>\n",
       "    </tr>\n",
       "    <tr>\n",
       "      <th>7</th>\n",
       "      <td>0.001265</td>\n",
       "      <td>0.999222</td>\n",
       "      <td>0.000020</td>\n",
       "    </tr>\n",
       "    <tr>\n",
       "      <th>8</th>\n",
       "      <td>0.001265</td>\n",
       "      <td>0.999222</td>\n",
       "      <td>0.000020</td>\n",
       "    </tr>\n",
       "    <tr>\n",
       "      <th>9</th>\n",
       "      <td>0.001265</td>\n",
       "      <td>0.999222</td>\n",
       "      <td>0.000020</td>\n",
       "    </tr>\n",
       "    <tr>\n",
       "      <th>10</th>\n",
       "      <td>0.001265</td>\n",
       "      <td>0.999222</td>\n",
       "      <td>0.000020</td>\n",
       "    </tr>\n",
       "    <tr>\n",
       "      <th>11</th>\n",
       "      <td>0.001265</td>\n",
       "      <td>0.999222</td>\n",
       "      <td>0.000020</td>\n",
       "    </tr>\n",
       "    <tr>\n",
       "      <th>12</th>\n",
       "      <td>0.001265</td>\n",
       "      <td>0.999222</td>\n",
       "      <td>0.000020</td>\n",
       "    </tr>\n",
       "    <tr>\n",
       "      <th>13</th>\n",
       "      <td>0.001265</td>\n",
       "      <td>0.999222</td>\n",
       "      <td>0.000020</td>\n",
       "    </tr>\n",
       "    <tr>\n",
       "      <th>14</th>\n",
       "      <td>0.001265</td>\n",
       "      <td>0.999222</td>\n",
       "      <td>0.000020</td>\n",
       "    </tr>\n",
       "    <tr>\n",
       "      <th>15</th>\n",
       "      <td>0.001265</td>\n",
       "      <td>0.999222</td>\n",
       "      <td>0.000020</td>\n",
       "    </tr>\n",
       "    <tr>\n",
       "      <th>16</th>\n",
       "      <td>0.001265</td>\n",
       "      <td>0.999222</td>\n",
       "      <td>0.000020</td>\n",
       "    </tr>\n",
       "    <tr>\n",
       "      <th>17</th>\n",
       "      <td>0.001265</td>\n",
       "      <td>0.999222</td>\n",
       "      <td>0.000020</td>\n",
       "    </tr>\n",
       "    <tr>\n",
       "      <th>18</th>\n",
       "      <td>0.001265</td>\n",
       "      <td>0.999222</td>\n",
       "      <td>0.000020</td>\n",
       "    </tr>\n",
       "    <tr>\n",
       "      <th>19</th>\n",
       "      <td>0.001265</td>\n",
       "      <td>0.999222</td>\n",
       "      <td>0.000020</td>\n",
       "    </tr>\n",
       "    <tr>\n",
       "      <th>20</th>\n",
       "      <td>0.001265</td>\n",
       "      <td>0.999222</td>\n",
       "      <td>0.000020</td>\n",
       "    </tr>\n",
       "    <tr>\n",
       "      <th>21</th>\n",
       "      <td>0.001265</td>\n",
       "      <td>0.999222</td>\n",
       "      <td>0.000020</td>\n",
       "    </tr>\n",
       "    <tr>\n",
       "      <th>22</th>\n",
       "      <td>0.001265</td>\n",
       "      <td>0.999222</td>\n",
       "      <td>0.000020</td>\n",
       "    </tr>\n",
       "    <tr>\n",
       "      <th>23</th>\n",
       "      <td>0.001265</td>\n",
       "      <td>0.999222</td>\n",
       "      <td>0.000020</td>\n",
       "    </tr>\n",
       "    <tr>\n",
       "      <th>24</th>\n",
       "      <td>0.001265</td>\n",
       "      <td>0.999222</td>\n",
       "      <td>0.000020</td>\n",
       "    </tr>\n",
       "    <tr>\n",
       "      <th>25</th>\n",
       "      <td>0.001265</td>\n",
       "      <td>0.999222</td>\n",
       "      <td>0.000020</td>\n",
       "    </tr>\n",
       "    <tr>\n",
       "      <th>26</th>\n",
       "      <td>0.001265</td>\n",
       "      <td>0.999222</td>\n",
       "      <td>0.000020</td>\n",
       "    </tr>\n",
       "    <tr>\n",
       "      <th>27</th>\n",
       "      <td>0.001265</td>\n",
       "      <td>0.999222</td>\n",
       "      <td>0.000020</td>\n",
       "    </tr>\n",
       "    <tr>\n",
       "      <th>28</th>\n",
       "      <td>0.001265</td>\n",
       "      <td>0.999222</td>\n",
       "      <td>0.000020</td>\n",
       "    </tr>\n",
       "    <tr>\n",
       "      <th>29</th>\n",
       "      <td>0.001265</td>\n",
       "      <td>0.999222</td>\n",
       "      <td>0.000020</td>\n",
       "    </tr>\n",
       "    <tr>\n",
       "      <th>...</th>\n",
       "      <td>...</td>\n",
       "      <td>...</td>\n",
       "      <td>...</td>\n",
       "    </tr>\n",
       "    <tr>\n",
       "      <th>1015201</th>\n",
       "      <td>0.482759</td>\n",
       "      <td>0.010895</td>\n",
       "      <td>2.485379</td>\n",
       "    </tr>\n",
       "    <tr>\n",
       "      <th>1015202</th>\n",
       "      <td>0.464286</td>\n",
       "      <td>0.010117</td>\n",
       "      <td>2.493102</td>\n",
       "    </tr>\n",
       "    <tr>\n",
       "      <th>1015203</th>\n",
       "      <td>0.444444</td>\n",
       "      <td>0.009339</td>\n",
       "      <td>2.521118</td>\n",
       "    </tr>\n",
       "    <tr>\n",
       "      <th>1015204</th>\n",
       "      <td>0.461538</td>\n",
       "      <td>0.009339</td>\n",
       "      <td>2.558629</td>\n",
       "    </tr>\n",
       "    <tr>\n",
       "      <th>1015205</th>\n",
       "      <td>0.480000</td>\n",
       "      <td>0.009339</td>\n",
       "      <td>2.643470</td>\n",
       "    </tr>\n",
       "    <tr>\n",
       "      <th>1015206</th>\n",
       "      <td>0.500000</td>\n",
       "      <td>0.009339</td>\n",
       "      <td>2.706930</td>\n",
       "    </tr>\n",
       "    <tr>\n",
       "      <th>1015207</th>\n",
       "      <td>0.521739</td>\n",
       "      <td>0.009339</td>\n",
       "      <td>2.747030</td>\n",
       "    </tr>\n",
       "    <tr>\n",
       "      <th>1015208</th>\n",
       "      <td>0.545455</td>\n",
       "      <td>0.009339</td>\n",
       "      <td>2.776899</td>\n",
       "    </tr>\n",
       "    <tr>\n",
       "      <th>1015209</th>\n",
       "      <td>0.571429</td>\n",
       "      <td>0.009339</td>\n",
       "      <td>2.844005</td>\n",
       "    </tr>\n",
       "    <tr>\n",
       "      <th>1015210</th>\n",
       "      <td>0.550000</td>\n",
       "      <td>0.008560</td>\n",
       "      <td>2.873570</td>\n",
       "    </tr>\n",
       "    <tr>\n",
       "      <th>1015211</th>\n",
       "      <td>0.578947</td>\n",
       "      <td>0.008560</td>\n",
       "      <td>2.934727</td>\n",
       "    </tr>\n",
       "    <tr>\n",
       "      <th>1015212</th>\n",
       "      <td>0.611111</td>\n",
       "      <td>0.008560</td>\n",
       "      <td>3.074768</td>\n",
       "    </tr>\n",
       "    <tr>\n",
       "      <th>1015213</th>\n",
       "      <td>0.588235</td>\n",
       "      <td>0.007782</td>\n",
       "      <td>3.397036</td>\n",
       "    </tr>\n",
       "    <tr>\n",
       "      <th>1015214</th>\n",
       "      <td>0.625000</td>\n",
       "      <td>0.007782</td>\n",
       "      <td>3.529632</td>\n",
       "    </tr>\n",
       "    <tr>\n",
       "      <th>1015215</th>\n",
       "      <td>0.600000</td>\n",
       "      <td>0.007004</td>\n",
       "      <td>3.628285</td>\n",
       "    </tr>\n",
       "    <tr>\n",
       "      <th>1015216</th>\n",
       "      <td>0.571429</td>\n",
       "      <td>0.006226</td>\n",
       "      <td>3.797916</td>\n",
       "    </tr>\n",
       "    <tr>\n",
       "      <th>1015217</th>\n",
       "      <td>0.615385</td>\n",
       "      <td>0.006226</td>\n",
       "      <td>4.030061</td>\n",
       "    </tr>\n",
       "    <tr>\n",
       "      <th>1015218</th>\n",
       "      <td>0.583333</td>\n",
       "      <td>0.005447</td>\n",
       "      <td>4.042370</td>\n",
       "    </tr>\n",
       "    <tr>\n",
       "      <th>1015219</th>\n",
       "      <td>0.545455</td>\n",
       "      <td>0.004669</td>\n",
       "      <td>5.333852</td>\n",
       "    </tr>\n",
       "    <tr>\n",
       "      <th>1015220</th>\n",
       "      <td>0.600000</td>\n",
       "      <td>0.004669</td>\n",
       "      <td>6.239183</td>\n",
       "    </tr>\n",
       "    <tr>\n",
       "      <th>1015221</th>\n",
       "      <td>0.666667</td>\n",
       "      <td>0.004669</td>\n",
       "      <td>6.620183</td>\n",
       "    </tr>\n",
       "    <tr>\n",
       "      <th>1015222</th>\n",
       "      <td>0.750000</td>\n",
       "      <td>0.004669</td>\n",
       "      <td>8.314440</td>\n",
       "    </tr>\n",
       "    <tr>\n",
       "      <th>1015223</th>\n",
       "      <td>0.857143</td>\n",
       "      <td>0.004669</td>\n",
       "      <td>8.501765</td>\n",
       "    </tr>\n",
       "    <tr>\n",
       "      <th>1015224</th>\n",
       "      <td>1.000000</td>\n",
       "      <td>0.004669</td>\n",
       "      <td>8.747293</td>\n",
       "    </tr>\n",
       "    <tr>\n",
       "      <th>1015225</th>\n",
       "      <td>1.000000</td>\n",
       "      <td>0.003891</td>\n",
       "      <td>8.816966</td>\n",
       "    </tr>\n",
       "    <tr>\n",
       "      <th>1015226</th>\n",
       "      <td>1.000000</td>\n",
       "      <td>0.003113</td>\n",
       "      <td>9.848919</td>\n",
       "    </tr>\n",
       "    <tr>\n",
       "      <th>1015227</th>\n",
       "      <td>1.000000</td>\n",
       "      <td>0.002335</td>\n",
       "      <td>10.572927</td>\n",
       "    </tr>\n",
       "    <tr>\n",
       "      <th>1015228</th>\n",
       "      <td>1.000000</td>\n",
       "      <td>0.001556</td>\n",
       "      <td>15.301893</td>\n",
       "    </tr>\n",
       "    <tr>\n",
       "      <th>1015229</th>\n",
       "      <td>1.000000</td>\n",
       "      <td>0.000778</td>\n",
       "      <td>72.390924</td>\n",
       "    </tr>\n",
       "    <tr>\n",
       "      <th>1015230</th>\n",
       "      <td>1.000000</td>\n",
       "      <td>0.000000</td>\n",
       "      <td>NaN</td>\n",
       "    </tr>\n",
       "  </tbody>\n",
       "</table>\n",
       "<p>1015231 rows × 3 columns</p>\n",
       "</div>"
      ],
      "text/plain": [
       "         precision_rt  recall_rt  threshold_rt\n",
       "0            0.001266   1.000000      0.000020\n",
       "1            0.001265   0.999222      0.000020\n",
       "2            0.001265   0.999222      0.000020\n",
       "3            0.001265   0.999222      0.000020\n",
       "4            0.001265   0.999222      0.000020\n",
       "5            0.001265   0.999222      0.000020\n",
       "6            0.001265   0.999222      0.000020\n",
       "7            0.001265   0.999222      0.000020\n",
       "8            0.001265   0.999222      0.000020\n",
       "9            0.001265   0.999222      0.000020\n",
       "10           0.001265   0.999222      0.000020\n",
       "11           0.001265   0.999222      0.000020\n",
       "12           0.001265   0.999222      0.000020\n",
       "13           0.001265   0.999222      0.000020\n",
       "14           0.001265   0.999222      0.000020\n",
       "15           0.001265   0.999222      0.000020\n",
       "16           0.001265   0.999222      0.000020\n",
       "17           0.001265   0.999222      0.000020\n",
       "18           0.001265   0.999222      0.000020\n",
       "19           0.001265   0.999222      0.000020\n",
       "20           0.001265   0.999222      0.000020\n",
       "21           0.001265   0.999222      0.000020\n",
       "22           0.001265   0.999222      0.000020\n",
       "23           0.001265   0.999222      0.000020\n",
       "24           0.001265   0.999222      0.000020\n",
       "25           0.001265   0.999222      0.000020\n",
       "26           0.001265   0.999222      0.000020\n",
       "27           0.001265   0.999222      0.000020\n",
       "28           0.001265   0.999222      0.000020\n",
       "29           0.001265   0.999222      0.000020\n",
       "...               ...        ...           ...\n",
       "1015201      0.482759   0.010895      2.485379\n",
       "1015202      0.464286   0.010117      2.493102\n",
       "1015203      0.444444   0.009339      2.521118\n",
       "1015204      0.461538   0.009339      2.558629\n",
       "1015205      0.480000   0.009339      2.643470\n",
       "1015206      0.500000   0.009339      2.706930\n",
       "1015207      0.521739   0.009339      2.747030\n",
       "1015208      0.545455   0.009339      2.776899\n",
       "1015209      0.571429   0.009339      2.844005\n",
       "1015210      0.550000   0.008560      2.873570\n",
       "1015211      0.578947   0.008560      2.934727\n",
       "1015212      0.611111   0.008560      3.074768\n",
       "1015213      0.588235   0.007782      3.397036\n",
       "1015214      0.625000   0.007782      3.529632\n",
       "1015215      0.600000   0.007004      3.628285\n",
       "1015216      0.571429   0.006226      3.797916\n",
       "1015217      0.615385   0.006226      4.030061\n",
       "1015218      0.583333   0.005447      4.042370\n",
       "1015219      0.545455   0.004669      5.333852\n",
       "1015220      0.600000   0.004669      6.239183\n",
       "1015221      0.666667   0.004669      6.620183\n",
       "1015222      0.750000   0.004669      8.314440\n",
       "1015223      0.857143   0.004669      8.501765\n",
       "1015224      1.000000   0.004669      8.747293\n",
       "1015225      1.000000   0.003891      8.816966\n",
       "1015226      1.000000   0.003113      9.848919\n",
       "1015227      1.000000   0.002335     10.572927\n",
       "1015228      1.000000   0.001556     15.301893\n",
       "1015229      1.000000   0.000778     72.390924\n",
       "1015230      1.000000   0.000000           NaN\n",
       "\n",
       "[1015231 rows x 3 columns]"
      ]
     },
     "execution_count": 50,
     "metadata": {},
     "output_type": "execute_result"
    }
   ],
   "source": [
    "thresh"
   ]
  },
  {
   "cell_type": "code",
   "execution_count": 51,
   "metadata": {},
   "outputs": [],
   "source": [
    "test_x_predictions = autoencoder.predict(df_test_x_rescaled)\n",
    "mse = np.mean(np.power(df_test_x_rescaled - test_x_predictions, 2), axis=1)\n",
    "error_df_test = pd.DataFrame({'Reconstruction_error': mse,\n",
    "                        'True_class': test_ae['isFraud']})\n",
    "error_df_test = error_df_test.reset_index()"
   ]
  },
  {
   "cell_type": "code",
   "execution_count": 52,
   "metadata": {},
   "outputs": [
    {
     "data": {
      "image/png": "[encoded data removed]",
      "text/plain": [
       "<Figure size 432x288 with 1 Axes>"
      ]
     },
     "metadata": {
      "needs_background": "light"
     },
     "output_type": "display_data"
    }
   ],
   "source": [
    "# visualize the classification results from the autoecoder given the following threshold\n",
    "threshold_fixed = 0.0468\n",
    "groups = error_df_test.groupby('True_class')\n",
    "\n",
    "fig, ax = plt.subplots()\n",
    "\n",
    "for name, group in groups:\n",
    "    ax.plot(group.index, group.Reconstruction_error, marker='o', ms=3.5, linestyle='',\n",
    "            label= \"Fraud\" if name == 1 else \"Not Fraud\")\n",
    "ax.hlines(threshold_fixed, ax.get_xlim()[0], ax.get_xlim()[1], colors=\"r\", zorder=100, label='Threshold')\n",
    "ax.legend()\n",
    "plt.title(\"Reconstruction error for different classes\")\n",
    "plt.ylabel(\"Reconstruction error\")\n",
    "plt.xlabel(\"Data point index\")\n",
    "plt.show()"
   ]
  },
  {
   "cell_type": "code",
   "execution_count": 53,
   "metadata": {},
   "outputs": [],
   "source": [
    "# convert autoencoder reconstruction results to binary classifications using threshold point\n",
    "pred_y = [1 if e > threshold_fixed else 0 for e in error_df.Reconstruction_error.values]"
   ]
  },
  {
   "cell_type": "code",
   "execution_count": 54,
   "metadata": {},
   "outputs": [],
   "source": [
    "predictions = pd.DataFrame({'true': error_df.True_class,\n",
    "                           'predicted': pred_y})"
   ]
  },
  {
   "cell_type": "code",
   "execution_count": 55,
   "metadata": {},
   "outputs": [
    {
     "name": "stdout",
     "output_type": "stream",
     "text": [
      "Percent of true positives: 20.31%\n",
      "Percent of false negatives: 79.69%\n",
      "Percent of true negatives: 99.75%\n",
      "Percent of false positives: 0.25%\n"
     ]
    },
    {
     "data": {
      "text/html": [
       "<div>\n",
       "<style scoped>\n",
       "    .dataframe tbody tr th:only-of-type {\n",
       "        vertical-align: middle;\n",
       "    }\n",
       "\n",
       "    .dataframe tbody tr th {\n",
       "        vertical-align: top;\n",
       "    }\n",
       "\n",
       "    .dataframe thead th {\n",
       "        text-align: right;\n",
       "    }\n",
       "</style>\n",
       "<table border=\"1\" class=\"dataframe\">\n",
       "  <thead>\n",
       "    <tr style=\"text-align: right;\">\n",
       "      <th></th>\n",
       "      <th>Pred Fraud</th>\n",
       "      <th>Pred Non-Fraud</th>\n",
       "    </tr>\n",
       "  </thead>\n",
       "  <tbody>\n",
       "    <tr>\n",
       "      <th>Actual Fraud</th>\n",
       "      <td>261</td>\n",
       "      <td>1024</td>\n",
       "    </tr>\n",
       "    <tr>\n",
       "      <th>Actual Non-Fraud</th>\n",
       "      <td>2497</td>\n",
       "      <td>1014238</td>\n",
       "    </tr>\n",
       "  </tbody>\n",
       "</table>\n",
       "</div>"
      ],
      "text/plain": [
       "                  Pred Fraud  Pred Non-Fraud\n",
       "Actual Fraud             261            1024\n",
       "Actual Non-Fraud        2497         1014238"
      ]
     },
     "execution_count": 55,
     "metadata": {},
     "output_type": "execute_result"
    }
   ],
   "source": [
    "print_confusion_matrix(error_df.True_class,pred_y)"
   ]
  },
  {
   "cell_type": "code",
   "execution_count": 57,
   "metadata": {},
   "outputs": [],
   "source": [
    "# save nornalized imbalanced_ann model\n",
    "# serialize model to JSON\n",
    "with open(\"models/standardized_autoencoder.json\", \"w\") as json_file:\n",
    "    json_file.write(autoencoder.to_json())\n",
    "# serialize weights to HDF5\n",
    "autoencoder.save_weights(\"models/standardized_autoencoder.h5\")"
   ]
  }
 ],
 "metadata": {
  "kernelspec": {
   "display_name": "Python 3",
   "language": "python",
   "name": "python3"
  },
  "language_info": {
   "codemirror_mode": {
    "name": "ipython",
    "version": 3
   },
   "file_extension": ".py",
   "mimetype": "text/x-python",
   "name": "python",
   "nbconvert_exporter": "python",
   "pygments_lexer": "ipython3",
   "version": "3.7.5"
  }
 },
 "nbformat": 4,
 "nbformat_minor": 4
}
